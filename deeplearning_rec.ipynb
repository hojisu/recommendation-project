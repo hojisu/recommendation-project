{
 "cells": [
  {
   "cell_type": "code",
   "execution_count": 23,
   "metadata": {},
   "outputs": [],
   "source": [
    "pd.set_option('display.max.colwidth', 5000)"
   ]
  },
  {
   "cell_type": "code",
   "execution_count": 2,
   "metadata": {},
   "outputs": [],
   "source": [
    "# df_action = pd.read_csv('../input/제6회 L.POINT Big Data Competition-분석용데이터-01.온라인 행동 정보.csv', parse_dates=['sess_dt'])\n",
    "# df_transaction = pd.read_csv('../input/제6회 L.POINT Big Data Competition-분석용데이터-02.거래 정보.csv', parse_dates=['de_dt'])\n",
    "df_transaction = pd.read_csv('../input/제6회 L.POINT Big Data Competition-분석용데이터-02.거래 정보.csv')\n",
    "df_product = pd.read_csv('../input/제6회 L.POINT Big Data Competition-분석용데이터-04.상품분류 정보.csv')"
   ]
  },
  {
   "cell_type": "code",
   "execution_count": 3,
   "metadata": {},
   "outputs": [],
   "source": [
    "# df = df_transaction[['clnt_id', 'de_dt', 'de_tm', 'pd_c']]\n",
    "# df = df[df.pd_c != 'unknown']\n",
    "# df['de_dt'] = df['de_dt'].astype(str)\n",
    "# df['pur_time'] = df['de_dt'] + ' ' + df['de_tm']\n",
    "# df.drop(columns=['de_dt','de_tm'], inplace=True)\n",
    "# df['tuple'] = df[['pur_time','pd_c']].apply(tuple, axis=1)\n",
    "# df1 = df.groupby('clnt_id')['tuple'].apply(list).reset_index(name='purchase')\n",
    "# df1['purchase'] = df1['purchase'].apply(sorted)\n",
    "# df1"
   ]
  },
  {
   "cell_type": "code",
   "execution_count": 4,
   "metadata": {},
   "outputs": [],
   "source": [
    "# df.sort_values(by=['clnt_id'], axis=0)\n",
    "# df['freq'] = df.groupby('a')['a'].transform('count')\n",
    "# df2['tuple'] = df2[['pur_time','pd_c']].apply(tuple, axis=1)"
   ]
  },
  {
   "cell_type": "code",
   "execution_count": 5,
   "metadata": {},
   "outputs": [],
   "source": [
    "# df2 = df_transaction[['clnt_id', 'de_dt', 'de_tm', 'pd_c']]\n",
    "# df2 = df2[df2.pd_c != 'unknown']\n",
    "# df2['de_dt'] = df2['de_dt'].astype(str)\n",
    "# df2['pur_time'] = df2['de_dt'] + ' ' + df2['de_tm']\n",
    "# df2.drop(columns=['de_dt','de_tm'], inplace=True)\n",
    "# df2['tuple'] = df2[['pur_time','pd_c']].apply(tuple, axis=1)\n",
    "# df2['freq'] = df2.groupby('tuple')['tuple'].transform('count')\n",
    "# df2.drop_duplicates('tuple', inplace=True)\n",
    "# df2['purchases'] = df2[['pur_time','pd_c','freq']].apply(tuple, axis=1)\n",
    "# df3 = df2.groupby('clnt_id')['purchases'].apply(list).reset_index(name='purchase')\n",
    "# df3['purchase'] = df3['purchase'].apply(sorted)\n",
    "# df3"
   ]
  },
  {
   "cell_type": "code",
   "execution_count": 6,
   "metadata": {},
   "outputs": [],
   "source": [
    "# from pandas.api.types import is_numeric_dtype\n",
    "# df2.groupby(['clnt_id', 'pur_time'], as_index=False).agg(lambda x: x.sum() if is_numeric_dtype(x) else ', '.join(x))"
   ]
  },
  {
   "cell_type": "markdown",
   "metadata": {},
   "source": [
    "### EDA\n",
    "1. client별 구매시간 순으로 구매내역 정리 (구매시간(아이템ID, 아이템이름, 구매갯수))\n",
    "2. MF "
   ]
  },
  {
   "cell_type": "markdown",
   "metadata": {},
   "source": [
    "client별 구매시간 순으로 구매내역 정리 (구매시간(아이템ID, 아이템이름, 구매갯수))"
   ]
  },
  {
   "cell_type": "code",
   "execution_count": 7,
   "metadata": {},
   "outputs": [],
   "source": [
    "df_product['pd_c'] = df_product['pd_c'].apply(lambda num: \"{:04n}\".format(num))\n",
    "df_transaction = pd.merge(df_transaction, df_product, how='left')\n",
    "df_transaction = df_transaction.dropna().reset_index(drop=True)\n",
    "df_transaction = df_transaction.assign(product_nm = df_transaction.clac_nm1 + ',' + \\\n",
    "                                      df_transaction.clac_nm2 + ',' + df_transaction.clac_nm3)"
   ]
  },
  {
   "cell_type": "code",
   "execution_count": 10,
   "metadata": {},
   "outputs": [
    {
     "data": {
      "text/html": [
       "<div>\n",
       "<style scoped>\n",
       "    .dataframe tbody tr th:only-of-type {\n",
       "        vertical-align: middle;\n",
       "    }\n",
       "\n",
       "    .dataframe tbody tr th {\n",
       "        vertical-align: top;\n",
       "    }\n",
       "\n",
       "    .dataframe thead th {\n",
       "        text-align: right;\n",
       "    }\n",
       "</style>\n",
       "<table border=\"1\" class=\"dataframe\">\n",
       "  <thead>\n",
       "    <tr style=\"text-align: right;\">\n",
       "      <th></th>\n",
       "      <th>clnt_id</th>\n",
       "      <th>orders</th>\n",
       "    </tr>\n",
       "  </thead>\n",
       "  <tbody>\n",
       "    <tr>\n",
       "      <td>0</td>\n",
       "      <td>2</td>\n",
       "      <td>[[20190704 15:34, [('1015', \"Men's Clothing,Men's Upper Bodywear / Tops,Men's T-shirts\", 1)]], [20190729 23:47, [('0092', 'Beverages,Coffee Drinks,Coffee Drinks', 20)]], [20190731 21:25, [('0092', 'Beverages,Coffee Drinks,Coffee Drinks', 1), ('0151', 'Canned / Jarred Foods,Canned Agricultural Foods,Canned Vegetable Foods', 1), ('0351', 'Dairy Products,Processed Dairy Products,Cream and Condensed milk', 1), ('0189', 'Chilled Foods,Fish Cakes and Crab Sticks,Fried Tofu', 1), ('0186', 'Chilled Foods,Fish Cakes and Crab Sticks,Crab Sticks', 1)]], [20190801 22:00, [('0092', 'Beverages,Coffee Drinks,Coffee Drinks', 5)]], [20190809 10:14, [('0857', \"Kids' Clothing,Preschoolers' Upper Bodywear / Tops,Infant / Toddlers' T-shirts / Tops\", 1)]], [20190830 22:00, [('1395', 'Substitute Foods,Instant Noodles,Ramens', 1), ('1395', 'Substitute Foods,Instant Noodles,Ramens', 2), ('1395', 'Substitute Foods,Instant Noodles,Ramens', 1)]]]</td>\n",
       "    </tr>\n",
       "    <tr>\n",
       "      <td>1</td>\n",
       "      <td>9</td>\n",
       "      <td>[[20190708 13:48, [('0515', 'Frozen Foods,Frozen Instant Foods,Frozen Dumplings', 1), ('1388', 'Substitute Foods,Dried Noodles,Pasta Noodles', 1), ('1183', 'Snack Foods,Biscuits,Cookies', 1), ('0347', 'Dairy Products,Milk,Fresh Milk', 1), ('0114', 'Beverages,Water,Water', 1), ('0517', 'Frozen Foods,Frozen Instant Foods,Frozen Hotdogs', 1), ('1075', 'Personal Care,Oral Care,Toothbrushes', 1), ('1245', 'Spices / Seasonings,Sauces,Pasta Sauces', 1), ('1386', 'Substitute Foods,Dried Noodles,Noodles', 1)]], [20190713 19:21, [('1573', 'Vegetables,Fruit Vegetables,Young Pumpkins', 1), ('0995', 'Meats,US Imported Beefs,US Imported Beefs - Shoulders', 0), ('1600', 'Vegetables,Mushrooms,Saesongi Mushrooms', 1)]], [20190727 18:37, [('0954', 'Meats,Domestic Porks,Domestic Porks - Diaphragms', 0), ('0952', 'Meats,Domestic Porks,Domestic Porks - Bellys', 0), ('0545', 'Fruits,Domestic Fruits,Plums', 1), ('0663', 'Grains,Miscellaneous Grains,Glutinous Rice', 1), ('1564', 'Vegetables,Chinese Herb M...</td>\n",
       "    </tr>\n",
       "    <tr>\n",
       "      <td>2</td>\n",
       "      <td>12</td>\n",
       "      <td>[[20190824 14:09, [('0542', 'Fruits,Domestic Fruits,Peaches', 1)]]]</td>\n",
       "    </tr>\n",
       "    <tr>\n",
       "      <td>3</td>\n",
       "      <td>20</td>\n",
       "      <td>[[20190704 17:30, [('0197', 'Chilled Foods,Packaged Side Dishes,Packged Kimchi', 1)]], [20190730 17:39, [('0114', 'Beverages,Water,Water', 2), ('0114', 'Beverages,Water,Water', 1)]], [20190731 16:10, [('0567', 'Fruits,Imported Fruits,Cherries', 1), ('0155', 'Canned / Jarred Foods,Canned Fish Foods,Canned Tunas', 1), ('0114', 'Beverages,Water,Water', 2)]], [20190807 11:47, [('1582', 'Vegetables,Leaf Vegetables,Korean Cabbages', 1), ('1581', 'Vegetables,Leaf Vegetables,Jumbo Spring Onions', 1), ('1588', 'Vegetables,Leaf Vegetables,Spinaches', 1), ('1568', 'Vegetables,Fruit Vegetables,Eggplants', 1), ('1595', 'Vegetables,Mushrooms,Dried Mushrooms', 1), ('0964', 'Meats,Eggs,Chicken Eggs', 1), ('0385', 'Dried Sea Foods,Dried Fish,Dried Anchovies For Parching And Boiling', 1), ('0283', 'Cooked Foods,Cooked Side Dishes,Cooked Salted Seafood', 1), ('0984', 'Meats,Seasoned Meats,Seasoned Beefs', 1), ('0186', 'Chilled Foods,Fish Cakes and Crab Sticks,Crab Sticks', 1), ('0114', 'Beverages,Wat...</td>\n",
       "    </tr>\n",
       "    <tr>\n",
       "      <td>4</td>\n",
       "      <td>23</td>\n",
       "      <td>[[20190707 12:19, [('0964', 'Meats,Eggs,Chicken Eggs', 1)]], [20190711 19:34, [('0097', 'Beverages,Fruit and Vegetable Drinks,Kids Drinks', 3), ('1242', 'Spices / Seasonings,Sauces,Ketchups', 1), ('0347', 'Dairy Products,Milk,Fresh Milk', 1), ('1235', 'Spices / Seasonings,Mature Sauces,Soy Sauces', 1)]], [20190720 00:37, [('0838', \"Kids' Clothing,Preschoolers' Full Bodywear,Infant / Toddlers' Dresses\", 1)]], [20190727 17:47, [('0092', 'Beverages,Coffee Drinks,Coffee Drinks', 2), ('1388', 'Substitute Foods,Dried Noodles,Pasta Noodles', 1), ('1400', 'Substitute Foods,Retort Pouches,Instant Porridge', 1), ('1400', 'Substitute Foods,Retort Pouches,Instant Porridge', 1), ('0351', 'Dairy Products,Processed Dairy Products,Cream and Condensed milk', 1)]], [20190826 18:07, [('0172', 'Chilled Foods,Chilled Beverages,Chilled Fruit and Vegetable Beverages', 1), ('0353', 'Dairy Products,Yogurt,General Yogurt', 1), ('0526', 'Frozen Foods,Ice Creams,Bar Ice Creams', 1)]], [20190901 12:30, [('1616...</td>\n",
       "    </tr>\n",
       "    <tr>\n",
       "      <td>...</td>\n",
       "      <td>...</td>\n",
       "      <td>...</td>\n",
       "    </tr>\n",
       "    <tr>\n",
       "      <td>11265</td>\n",
       "      <td>72373</td>\n",
       "      <td>[[20190721 20:51, [('0735', 'Heating / Cooling Electronics,Cooling Appliances,Electric Fans', 1)]], [20190724 09:27, [('1368', 'Stationary / Office Supplies,Writing Pads,Planners', 1), ('0219', 'Cleaning / Laundry / Bathroom Accessories,Cleaning Accessories,Rags', 1)]], [20190731 13:28, [('1628', 'Vegetables,Western Vegetables,Salads', 2), ('1628', 'Vegetables,Western Vegetables,Salads', 1), ('0984', 'Meats,Seasoned Meats,Seasoned Beefs', 1), ('0348', 'Dairy Products,Milk,Functional Milk', 1), ('0178', 'Chilled Foods,Chilled Instant Foods,Chilled Noodles', 2)]], [20190830 10:56, [('0952', 'Meats,Domestic Porks,Domestic Porks - Bellys', 1), ('0179', 'Chilled Foods,Chilled Instant Foods,Chilled Refreshments', 1), ('0979', 'Meats,Processed Meats,Meats for Steak', 1), ('0529', 'Frozen Foods,Ice Creams,Home Ice Creams', 1)]], [20190904 10:13, [('0219', 'Cleaning / Laundry / Bathroom Accessories,Cleaning Accessories,Rags', 1), ('0326', \"Cosmetics / Beauty Care,Men's Care,Men's Skin Care\"...</td>\n",
       "    </tr>\n",
       "    <tr>\n",
       "      <td>11266</td>\n",
       "      <td>72400</td>\n",
       "      <td>[[20190731 09:02, [('1017', 'Other Products,Special Offer Sales / B2B Sales,Special Offer Sales / B2B Sales', 1)]], [20190731 09:46, [('1064', 'Personal Care,Hair Care,Hair Shampoos', 1)]], [20190825 11:09, [('1076', 'Personal Care,Oral Care,Toothpaste', 1)]], [20190908 14:23, [('0981', 'Meats,Processed Meats,Processed Meats for Ham', 1)]]]</td>\n",
       "    </tr>\n",
       "    <tr>\n",
       "      <td>11267</td>\n",
       "      <td>72410</td>\n",
       "      <td>[[20190702 14:31, [('1666', \"Women's Clothing,Women's Upper Bodywear / Tops,Women's T-shirts / Tops\", 1)]], [20190702 15:41, [('0336', 'Cosmetics / Beauty Care,Skin Care,Essence / Serums', 1)]], [20190702 16:02, [('0189', 'Chilled Foods,Fish Cakes and Crab Sticks,Fried Tofu', 1), ('0188', 'Chilled Foods,Fish Cakes and Crab Sticks,Fish Cakes', 1), ('0354', 'Dairy Products,Yogurt,Spoon Type Yogurts', 1), ('1383', 'Substitute Foods,Cereals,General Cereals', 1), ('1213', 'Snack Foods,Snacks,General Snacks', 1), ('1213', 'Snack Foods,Snacks,General Snacks', 1)]], [20190703 11:44, [('1210', 'Snack Foods,Snacks,Corn Snacks', 1), ('1213', 'Snack Foods,Snacks,General Snacks', 1), ('1200', 'Snack Foods,Korean Traditional Snacks,Other Korean Traditional Snacks', 1), ('1215', 'Snack Foods,Snacks,Potato Snacks', 1), ('1615', 'Vegetables,Tofu / Bean Sprouts,Silken Tofu', 1), ('1216', 'Snack Foods,Snacks,Rice Snacks', 1), ('1213', 'Snack Foods,Snacks,General Snacks', 1), ('1213', 'Snack Foods,Sna...</td>\n",
       "    </tr>\n",
       "    <tr>\n",
       "      <td>11268</td>\n",
       "      <td>72423</td>\n",
       "      <td>[[20190819 16:50, [('0704', 'Health Foods,Dietary Supplements,Beauty Supplements', 2)]], [20190917 11:48, [('0169', 'Cell Phones / Accessories,Mobile Devices,Cell Phones', 1)]]]</td>\n",
       "    </tr>\n",
       "    <tr>\n",
       "      <td>11269</td>\n",
       "      <td>72424</td>\n",
       "      <td>[[20190718 20:05, [('0964', 'Meats,Eggs,Chicken Eggs', 1), ('0070', \"Bedding / Handicraft,Adults' Bedding,Adults' Pads / Bed Spread\", 1), ('0205', 'Cleaning / Laundry / Bathroom Accessories,Bathroom Fixtures,Bathroom Cleaning Accessories', 1), ('0367', 'Detergents / Hygiene Goods,Dishwashing Detergents,Multi-purpose Dishwashing Liquids', 1), ('0002', 'Automotive Products,Automotive Replacement Repair / Maintanance Kits,Car Lights', 1), ('0221', 'Cleaning / Laundry / Bathroom Accessories,Cleaning Accessories,Trash Bags', 1), ('0354', 'Dairy Products,Yogurt,Spoon Type Yogurts', 1), ('0226', 'Cleaning / Laundry / Bathroom Accessories,Home Organizations,Hangers', 1), ('0213', 'Cleaning / Laundry / Bathroom Accessories,Bathroom Fixtures,Water-pipe Accessories', 1), ('0864', 'Kitchenware,Fixed-price General Merchandise,Fixed-price Living Products', 1), ('1383', 'Substitute Foods,Cereals,General Cereals', 1)]], [20190727 11:22, [('0670', 'Grains,Rice,Rice', 1), ('1592', 'Vegetables,Leaf V...</td>\n",
       "    </tr>\n",
       "  </tbody>\n",
       "</table>\n",
       "<p>11270 rows × 2 columns</p>\n",
       "</div>"
      ],
      "text/plain": [
       "       clnt_id  \\\n",
       "0            2   \n",
       "1            9   \n",
       "2           12   \n",
       "3           20   \n",
       "4           23   \n",
       "...        ...   \n",
       "11265    72373   \n",
       "11266    72400   \n",
       "11267    72410   \n",
       "11268    72423   \n",
       "11269    72424   \n",
       "\n",
       "                                                                                                                                                                                                                                                                                                                                                                                                                                                                                                                                                                                                                                                                                                                                                                                                                                                                                                                                                                                                                                        orders  \n",
       "0                                                                         [[20190704 15:34, [('1015', \"Men's Clothing,Men's Upper Bodywear / Tops,Men's T-shirts\", 1)]], [20190729 23:47, [('0092', 'Beverages,Coffee Drinks,Coffee Drinks', 20)]], [20190731 21:25, [('0092', 'Beverages,Coffee Drinks,Coffee Drinks', 1), ('0151', 'Canned / Jarred Foods,Canned Agricultural Foods,Canned Vegetable Foods', 1), ('0351', 'Dairy Products,Processed Dairy Products,Cream and Condensed milk', 1), ('0189', 'Chilled Foods,Fish Cakes and Crab Sticks,Fried Tofu', 1), ('0186', 'Chilled Foods,Fish Cakes and Crab Sticks,Crab Sticks', 1)]], [20190801 22:00, [('0092', 'Beverages,Coffee Drinks,Coffee Drinks', 5)]], [20190809 10:14, [('0857', \"Kids' Clothing,Preschoolers' Upper Bodywear / Tops,Infant / Toddlers' T-shirts / Tops\", 1)]], [20190830 22:00, [('1395', 'Substitute Foods,Instant Noodles,Ramens', 1), ('1395', 'Substitute Foods,Instant Noodles,Ramens', 2), ('1395', 'Substitute Foods,Instant Noodles,Ramens', 1)]]]  \n",
       "1      [[20190708 13:48, [('0515', 'Frozen Foods,Frozen Instant Foods,Frozen Dumplings', 1), ('1388', 'Substitute Foods,Dried Noodles,Pasta Noodles', 1), ('1183', 'Snack Foods,Biscuits,Cookies', 1), ('0347', 'Dairy Products,Milk,Fresh Milk', 1), ('0114', 'Beverages,Water,Water', 1), ('0517', 'Frozen Foods,Frozen Instant Foods,Frozen Hotdogs', 1), ('1075', 'Personal Care,Oral Care,Toothbrushes', 1), ('1245', 'Spices / Seasonings,Sauces,Pasta Sauces', 1), ('1386', 'Substitute Foods,Dried Noodles,Noodles', 1)]], [20190713 19:21, [('1573', 'Vegetables,Fruit Vegetables,Young Pumpkins', 1), ('0995', 'Meats,US Imported Beefs,US Imported Beefs - Shoulders', 0), ('1600', 'Vegetables,Mushrooms,Saesongi Mushrooms', 1)]], [20190727 18:37, [('0954', 'Meats,Domestic Porks,Domestic Porks - Diaphragms', 0), ('0952', 'Meats,Domestic Porks,Domestic Porks - Bellys', 0), ('0545', 'Fruits,Domestic Fruits,Plums', 1), ('0663', 'Grains,Miscellaneous Grains,Glutinous Rice', 1), ('1564', 'Vegetables,Chinese Herb M...  \n",
       "2                                                                                                                                                                                                                                                                                                                                                                                                                                                                                                                                                                                                                                                                                                                                                                                                                                                                                                                                                                          [[20190824 14:09, [('0542', 'Fruits,Domestic Fruits,Peaches', 1)]]]  \n",
       "3      [[20190704 17:30, [('0197', 'Chilled Foods,Packaged Side Dishes,Packged Kimchi', 1)]], [20190730 17:39, [('0114', 'Beverages,Water,Water', 2), ('0114', 'Beverages,Water,Water', 1)]], [20190731 16:10, [('0567', 'Fruits,Imported Fruits,Cherries', 1), ('0155', 'Canned / Jarred Foods,Canned Fish Foods,Canned Tunas', 1), ('0114', 'Beverages,Water,Water', 2)]], [20190807 11:47, [('1582', 'Vegetables,Leaf Vegetables,Korean Cabbages', 1), ('1581', 'Vegetables,Leaf Vegetables,Jumbo Spring Onions', 1), ('1588', 'Vegetables,Leaf Vegetables,Spinaches', 1), ('1568', 'Vegetables,Fruit Vegetables,Eggplants', 1), ('1595', 'Vegetables,Mushrooms,Dried Mushrooms', 1), ('0964', 'Meats,Eggs,Chicken Eggs', 1), ('0385', 'Dried Sea Foods,Dried Fish,Dried Anchovies For Parching And Boiling', 1), ('0283', 'Cooked Foods,Cooked Side Dishes,Cooked Salted Seafood', 1), ('0984', 'Meats,Seasoned Meats,Seasoned Beefs', 1), ('0186', 'Chilled Foods,Fish Cakes and Crab Sticks,Crab Sticks', 1), ('0114', 'Beverages,Wat...  \n",
       "4      [[20190707 12:19, [('0964', 'Meats,Eggs,Chicken Eggs', 1)]], [20190711 19:34, [('0097', 'Beverages,Fruit and Vegetable Drinks,Kids Drinks', 3), ('1242', 'Spices / Seasonings,Sauces,Ketchups', 1), ('0347', 'Dairy Products,Milk,Fresh Milk', 1), ('1235', 'Spices / Seasonings,Mature Sauces,Soy Sauces', 1)]], [20190720 00:37, [('0838', \"Kids' Clothing,Preschoolers' Full Bodywear,Infant / Toddlers' Dresses\", 1)]], [20190727 17:47, [('0092', 'Beverages,Coffee Drinks,Coffee Drinks', 2), ('1388', 'Substitute Foods,Dried Noodles,Pasta Noodles', 1), ('1400', 'Substitute Foods,Retort Pouches,Instant Porridge', 1), ('1400', 'Substitute Foods,Retort Pouches,Instant Porridge', 1), ('0351', 'Dairy Products,Processed Dairy Products,Cream and Condensed milk', 1)]], [20190826 18:07, [('0172', 'Chilled Foods,Chilled Beverages,Chilled Fruit and Vegetable Beverages', 1), ('0353', 'Dairy Products,Yogurt,General Yogurt', 1), ('0526', 'Frozen Foods,Ice Creams,Bar Ice Creams', 1)]], [20190901 12:30, [('1616...  \n",
       "...                                                                                                                                                                                                                                                                                                                                                                                                                                                                                                                                                                                                                                                                                                                                                                                                                                                                                                                                                                                                                                        ...  \n",
       "11265  [[20190721 20:51, [('0735', 'Heating / Cooling Electronics,Cooling Appliances,Electric Fans', 1)]], [20190724 09:27, [('1368', 'Stationary / Office Supplies,Writing Pads,Planners', 1), ('0219', 'Cleaning / Laundry / Bathroom Accessories,Cleaning Accessories,Rags', 1)]], [20190731 13:28, [('1628', 'Vegetables,Western Vegetables,Salads', 2), ('1628', 'Vegetables,Western Vegetables,Salads', 1), ('0984', 'Meats,Seasoned Meats,Seasoned Beefs', 1), ('0348', 'Dairy Products,Milk,Functional Milk', 1), ('0178', 'Chilled Foods,Chilled Instant Foods,Chilled Noodles', 2)]], [20190830 10:56, [('0952', 'Meats,Domestic Porks,Domestic Porks - Bellys', 1), ('0179', 'Chilled Foods,Chilled Instant Foods,Chilled Refreshments', 1), ('0979', 'Meats,Processed Meats,Meats for Steak', 1), ('0529', 'Frozen Foods,Ice Creams,Home Ice Creams', 1)]], [20190904 10:13, [('0219', 'Cleaning / Laundry / Bathroom Accessories,Cleaning Accessories,Rags', 1), ('0326', \"Cosmetics / Beauty Care,Men's Care,Men's Skin Care\"...  \n",
       "11266                                                                                                                                                                                                                                                                                                                                                                                                                                                                                                                                                                                                                                                                                   [[20190731 09:02, [('1017', 'Other Products,Special Offer Sales / B2B Sales,Special Offer Sales / B2B Sales', 1)]], [20190731 09:46, [('1064', 'Personal Care,Hair Care,Hair Shampoos', 1)]], [20190825 11:09, [('1076', 'Personal Care,Oral Care,Toothpaste', 1)]], [20190908 14:23, [('0981', 'Meats,Processed Meats,Processed Meats for Ham', 1)]]]  \n",
       "11267  [[20190702 14:31, [('1666', \"Women's Clothing,Women's Upper Bodywear / Tops,Women's T-shirts / Tops\", 1)]], [20190702 15:41, [('0336', 'Cosmetics / Beauty Care,Skin Care,Essence / Serums', 1)]], [20190702 16:02, [('0189', 'Chilled Foods,Fish Cakes and Crab Sticks,Fried Tofu', 1), ('0188', 'Chilled Foods,Fish Cakes and Crab Sticks,Fish Cakes', 1), ('0354', 'Dairy Products,Yogurt,Spoon Type Yogurts', 1), ('1383', 'Substitute Foods,Cereals,General Cereals', 1), ('1213', 'Snack Foods,Snacks,General Snacks', 1), ('1213', 'Snack Foods,Snacks,General Snacks', 1)]], [20190703 11:44, [('1210', 'Snack Foods,Snacks,Corn Snacks', 1), ('1213', 'Snack Foods,Snacks,General Snacks', 1), ('1200', 'Snack Foods,Korean Traditional Snacks,Other Korean Traditional Snacks', 1), ('1215', 'Snack Foods,Snacks,Potato Snacks', 1), ('1615', 'Vegetables,Tofu / Bean Sprouts,Silken Tofu', 1), ('1216', 'Snack Foods,Snacks,Rice Snacks', 1), ('1213', 'Snack Foods,Snacks,General Snacks', 1), ('1213', 'Snack Foods,Sna...  \n",
       "11268                                                                                                                                                                                                                                                                                                                                                                                                                                                                                                                                                                                                                                                                                                                                                                                                                                                        [[20190819 16:50, [('0704', 'Health Foods,Dietary Supplements,Beauty Supplements', 2)]], [20190917 11:48, [('0169', 'Cell Phones / Accessories,Mobile Devices,Cell Phones', 1)]]]  \n",
       "11269  [[20190718 20:05, [('0964', 'Meats,Eggs,Chicken Eggs', 1), ('0070', \"Bedding / Handicraft,Adults' Bedding,Adults' Pads / Bed Spread\", 1), ('0205', 'Cleaning / Laundry / Bathroom Accessories,Bathroom Fixtures,Bathroom Cleaning Accessories', 1), ('0367', 'Detergents / Hygiene Goods,Dishwashing Detergents,Multi-purpose Dishwashing Liquids', 1), ('0002', 'Automotive Products,Automotive Replacement Repair / Maintanance Kits,Car Lights', 1), ('0221', 'Cleaning / Laundry / Bathroom Accessories,Cleaning Accessories,Trash Bags', 1), ('0354', 'Dairy Products,Yogurt,Spoon Type Yogurts', 1), ('0226', 'Cleaning / Laundry / Bathroom Accessories,Home Organizations,Hangers', 1), ('0213', 'Cleaning / Laundry / Bathroom Accessories,Bathroom Fixtures,Water-pipe Accessories', 1), ('0864', 'Kitchenware,Fixed-price General Merchandise,Fixed-price Living Products', 1), ('1383', 'Substitute Foods,Cereals,General Cereals', 1)]], [20190727 11:22, [('0670', 'Grains,Rice,Rice', 1), ('1592', 'Vegetables,Leaf V...  \n",
       "\n",
       "[11270 rows x 2 columns]"
      ]
     },
     "execution_count": 10,
     "metadata": {},
     "output_type": "execute_result"
    }
   ],
   "source": [
    "df = df_transaction[['clnt_id', 'de_dt', 'de_tm', 'pd_c', 'buy_ct', 'product_nm']]\n",
    "df['de_dt'] = df['de_dt'].astype(str)\n",
    "df['pur_time'] = df['de_dt'] + ' ' + df['de_tm']\n",
    "df.drop(columns=['de_dt','de_tm'], inplace=True)\n",
    "\n",
    "df['item_info'] = df[['pd_c','product_nm','buy_ct']].apply(tuple, axis=1)\n",
    "\n",
    "df = df.groupby(['clnt_id', 'pur_time'])['item_info'].apply(list).reset_index(name='order') \\\n",
    "    .groupby('clnt_id')[['pur_time', 'order']].apply(lambda x: x.values.tolist()).reset_index(name='orders')\n",
    "df"
   ]
  },
  {
   "cell_type": "code",
   "execution_count": 24,
   "metadata": {},
   "outputs": [
    {
     "data": {
      "text/plain": [
       "4    [[20190707 12:19, [('0964', 'Meats,Eggs,Chicken Eggs', 1)]], [20190711 19:34, [('0097', 'Beverages,Fruit and Vegetable Drinks,Kids Drinks', 3), ('1242', 'Spices / Seasonings,Sauces,Ketchups', 1), ('0347', 'Dairy Products,Milk,Fresh Milk', 1), ('1235', 'Spices / Seasonings,Mature Sauces,Soy Sauces', 1)]], [20190720 00:37, [('0838', \"Kids' Clothing,Preschoolers' Full Bodywear,Infant / Toddlers' Dresses\", 1)]], [20190727 17:47, [('0092', 'Beverages,Coffee Drinks,Coffee Drinks', 2), ('1388', 'Substitute Foods,Dried Noodles,Pasta Noodles', 1), ('1400', 'Substitute Foods,Retort Pouches,Instant Porridge', 1), ('1400', 'Substitute Foods,Retort Pouches,Instant Porridge', 1), ('0351', 'Dairy Products,Processed Dairy Products,Cream and Condensed milk', 1)]], [20190826 18:07, [('0172', 'Chilled Foods,Chilled Beverages,Chilled Fruit and Vegetable Beverages', 1), ('0353', 'Dairy Products,Yogurt,General Yogurt', 1), ('0526', 'Frozen Foods,Ice Creams,Bar Ice Creams', 1)]], [20190901 12:30, [('1616', 'Vegetables,Tofu / Bean Sprouts,Soybean Sprouts', 1), ('0536', 'Fruits,Domestic Fruits,Cherry Tomatoes', 1), ('1580', 'Vegetables,Leaf Vegetables,Garlic', 1), ('1571', 'Vegetables,Fruit Vegetables,Peppers', 1), ('0955', 'Meats,Domestic Porks,Domestic Porks - Hams', 1), ('0943', 'Meats,Domestic Beefs,Domestic Beefs - Rounds', 1), ('0943', 'Meats,Domestic Beefs,Domestic Beefs - Rounds', 1), ('0183', 'Chilled Foods,Chilled Instant Foods,Chilled Tteokbokkis', 1), ('0172', 'Chilled Foods,Chilled Beverages,Chilled Fruit and Vegetable Beverages', 1), ('0172', 'Chilled Foods,Chilled Beverages,Chilled Fruit and Vegetable Beverages', 1), ('0572', 'Fruits,Imported Fruits,Kiwi', 1), ('1120', 'Sea Foods,Frozen Packaged Fish,Packaged Shrimps', 1), ('0565', 'Fruits,Imported Fruits,Bananas', 1), ('0385', 'Dried Sea Foods,Dried Fish,Dried Anchovies For Parching And Boiling', 1), ('0351', 'Dairy Products,Processed Dairy Products,Cream and Condensed milk', 1), ('0925', 'Meats,Australian Imported Beefs,Australian Imported Beefs - Shoulders', 1), ('1596', 'Vegetables,Mushrooms,Enoki Mushrooms', 1), ('1610', 'Vegetables,Root Vegetables,Sweet Potatoes', 1)]], [20190920 18:08, [('0191', 'Chilled Foods,Ham and Sausages,Bacons', 1), ('0408', 'Dried Sea Foods,Processed Seaweeds,Seasoned Dried Lavers', 1), ('0533', 'Frozen Foods,Ice Creams,Tube Ice Creams', 2), ('0198', 'Chilled Foods,Packaged Side Dishes,Pickled Radishes', 1), ('0351', 'Dairy Products,Processed Dairy Products,Cream and Condensed milk', 1), ('1588', 'Vegetables,Leaf Vegetables,Spinaches', 1)]], [20190924 18:34, [('0565', 'Fruits,Imported Fruits,Bananas', 1), ('1628', 'Vegetables,Western Vegetables,Salads', 1), ('0175', 'Chilled Foods,Chilled Instant Foods,Chilled Dressings', 1), ('0178', 'Chilled Foods,Chilled Instant Foods,Chilled Noodles', 1), ('1623', 'Vegetables,Western Vegetables,Cabbages', 1)]], [20190928 20:11, [('0221', 'Cleaning / Laundry / Bathroom Accessories,Cleaning Accessories,Trash Bags', 1), ('0188', 'Chilled Foods,Fish Cakes and Crab Sticks,Fish Cakes', 1), ('1573', 'Vegetables,Fruit Vegetables,Young Pumpkins', 1), ('0964', 'Meats,Eggs,Chicken Eggs', 1), ('0183', 'Chilled Foods,Chilled Instant Foods,Chilled Tteokbokkis', 1), ('1584', 'Vegetables,Leaf Vegetables,Onions', 1), ('1628', 'Vegetables,Western Vegetables,Salads', 1)]]]\n",
       "Name: orders, dtype: object"
      ]
     },
     "execution_count": 24,
     "metadata": {},
     "output_type": "execute_result"
    }
   ],
   "source": [
    "df.loc[df['clnt_id'] == 23].orders"
   ]
  },
  {
   "cell_type": "code",
   "execution_count": null,
   "metadata": {},
   "outputs": [],
   "source": []
  }
 ],
 "metadata": {
  "kernelspec": {
   "display_name": "Python 3",
   "language": "python",
   "name": "python3"
  },
  "language_info": {
   "codemirror_mode": {
    "name": "ipython",
    "version": 3
   },
   "file_extension": ".py",
   "mimetype": "text/x-python",
   "name": "python",
   "nbconvert_exporter": "python",
   "pygments_lexer": "ipython3",
   "version": "3.7.0"
  }
 },
 "nbformat": 4,
 "nbformat_minor": 4
}
