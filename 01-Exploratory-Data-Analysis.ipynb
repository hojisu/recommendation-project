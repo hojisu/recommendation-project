{
 "cells": [
  {
   "cell_type": "markdown",
   "metadata": {},
   "source": [
    "# Exploratory Data Analysis"
   ]
  },
  {
   "cell_type": "code",
   "execution_count": 17,
   "metadata": {},
   "outputs": [],
   "source": [
    "# 출처 : 롯데멤버스, L.pay|L.POINT, 제6회 L.POINT Big Data Competition\n",
    "%matplotlib inline\n",
    "import pandas as pd\n",
    "import numpy as np\n",
    "import matplotlib.pyplot as plt\n",
    "\n",
    "df_action = pd.read_csv('../input/제6회 L.POINT Big Data Competition-분석용데이터-01.온라인 행동 정보.csv', parse_dates=['sess_dt'])\n",
    "df_transaction = pd.read_csv('../input/제6회 L.POINT Big Data Competition-분석용데이터-02.거래 정보.csv', parse_dates=['de_dt'])\n",
    "df_client_demo = pd.read_csv('../input/제6회 L.POINT Big Data Competition-분석용데이터-03.고객 Demographic 정보.csv')\n",
    "df_product = pd.read_csv('../input/제6회 L.POINT Big Data Competition-분석용데이터-04.상품분류 정보.csv')"
   ]
  },
  {
   "cell_type": "markdown",
   "metadata": {},
   "source": [
    "## Online Action columns\n",
    "- clnt_id : 클라이언트 ID, 고객을 고유하게 식별할 수 있도록 랜덤으로 부여된 ID\n",
    "- sess_id : 세션 ID, Web/App에 접속 후 세션이 시작될 때 부여된 순번 ID (클라이언트 ID에 여러개의 세션 ID 발급될 수 있음)\n",
    "- hit_seq : 조회일련번호, 조회 순서를 알 수 있도록 부여된 일련번호\n",
    "- action_type : 행동유형, 총 8가지의 행동 유형을 구분한 코드 [0.검색/ 1.제품 목록/ 2.제품 세부정보 보기/ 3. 장바구니 제품 추가/ 4, 장바구니 제품 삭제/ 5. 결제시도/ 6. 구매 완료/ 7. 구매환불/ 8. 결제옵션]\n",
    "- biz_unit : 업종단위, 온라인 및 오프라인 이용처를 구분하는 단위코드\n",
    "- sess_dt : 세션일자, (YYYYMMDD 형식)\n",
    "- hit_tm : 조회시간 (HH:MM 형식)\n",
    "- hit_pss_tm : 조회경과시간, 세션이 시작된 이후 해당 조회까지 경과한 시간(단위:밀리초), 첫번째 조회하면 0으로 설정\n",
    "- trans_id : 거래 ID, 구매내역을 고유하게 식별할 수 있도록 랜덤으로 부여된 ID\n",
    "- srch_kwd : 검색 키워드, 고객이 검색한 키워드\n",
    "- tot_pag_view_ct : 홈페이지조회건수, 세션 내의 총 페이지(화면)뷰 수\n",
    "- tot_sess_hr_v : 총세션시간값, 세션 내 총 시간(단위: 초)\n",
    "- trfc_src : 유입채널, 고객이 유입된 채널, [DIRECT/ PUSH/ WEBSITE/ PORTAL_1/ PORTAL_2/ PORTAL_3/ unknown]\n",
    "- dvc_ctg_nm : 기기유형, [mobile_web/ mobile_app/ PC]"
   ]
  },
  {
   "cell_type": "code",
   "execution_count": 18,
   "metadata": {},
   "outputs": [
    {
     "name": "stdout",
     "output_type": "stream",
     "text": [
      "(3196362, 14)\n"
     ]
    },
    {
     "data": {
      "text/html": [
       "<div>\n",
       "<style scoped>\n",
       "    .dataframe tbody tr th:only-of-type {\n",
       "        vertical-align: middle;\n",
       "    }\n",
       "\n",
       "    .dataframe tbody tr th {\n",
       "        vertical-align: top;\n",
       "    }\n",
       "\n",
       "    .dataframe thead th {\n",
       "        text-align: right;\n",
       "    }\n",
       "</style>\n",
       "<table border=\"1\" class=\"dataframe\">\n",
       "  <thead>\n",
       "    <tr style=\"text-align: right;\">\n",
       "      <th></th>\n",
       "      <th>clnt_id</th>\n",
       "      <th>sess_id</th>\n",
       "      <th>hit_seq</th>\n",
       "      <th>action_type</th>\n",
       "      <th>biz_unit</th>\n",
       "      <th>sess_dt</th>\n",
       "      <th>hit_tm</th>\n",
       "      <th>hit_pss_tm</th>\n",
       "      <th>trans_id</th>\n",
       "      <th>sech_kwd</th>\n",
       "      <th>tot_pag_view_ct</th>\n",
       "      <th>tot_sess_hr_v</th>\n",
       "      <th>trfc_src</th>\n",
       "      <th>dvc_ctg_nm</th>\n",
       "    </tr>\n",
       "  </thead>\n",
       "  <tbody>\n",
       "    <tr>\n",
       "      <td>3196352</td>\n",
       "      <td>31032</td>\n",
       "      <td>3</td>\n",
       "      <td>5</td>\n",
       "      <td>0</td>\n",
       "      <td>A02</td>\n",
       "      <td>2019-08-05</td>\n",
       "      <td>10:54</td>\n",
       "      <td>47963</td>\n",
       "      <td>NaN</td>\n",
       "      <td>오야니</td>\n",
       "      <td>8.0</td>\n",
       "      <td>356.0</td>\n",
       "      <td>unknown</td>\n",
       "      <td>mobile_app</td>\n",
       "    </tr>\n",
       "    <tr>\n",
       "      <td>3196353</td>\n",
       "      <td>31032</td>\n",
       "      <td>2</td>\n",
       "      <td>6</td>\n",
       "      <td>0</td>\n",
       "      <td>A02</td>\n",
       "      <td>2019-08-04</td>\n",
       "      <td>22:37</td>\n",
       "      <td>527684</td>\n",
       "      <td>NaN</td>\n",
       "      <td>오야니</td>\n",
       "      <td>19.0</td>\n",
       "      <td>1047.0</td>\n",
       "      <td>unknown</td>\n",
       "      <td>mobile_app</td>\n",
       "    </tr>\n",
       "    <tr>\n",
       "      <td>3196354</td>\n",
       "      <td>31032</td>\n",
       "      <td>2</td>\n",
       "      <td>9</td>\n",
       "      <td>0</td>\n",
       "      <td>A02</td>\n",
       "      <td>2019-08-04</td>\n",
       "      <td>22:41</td>\n",
       "      <td>771472</td>\n",
       "      <td>NaN</td>\n",
       "      <td>오야니</td>\n",
       "      <td>19.0</td>\n",
       "      <td>1047.0</td>\n",
       "      <td>unknown</td>\n",
       "      <td>mobile_app</td>\n",
       "    </tr>\n",
       "    <tr>\n",
       "      <td>3196355</td>\n",
       "      <td>31032</td>\n",
       "      <td>2</td>\n",
       "      <td>1</td>\n",
       "      <td>0</td>\n",
       "      <td>A02</td>\n",
       "      <td>2019-08-04</td>\n",
       "      <td>22:35</td>\n",
       "      <td>356864</td>\n",
       "      <td>NaN</td>\n",
       "      <td>양가죽자켓</td>\n",
       "      <td>19.0</td>\n",
       "      <td>1047.0</td>\n",
       "      <td>unknown</td>\n",
       "      <td>mobile_app</td>\n",
       "    </tr>\n",
       "    <tr>\n",
       "      <td>3196356</td>\n",
       "      <td>31032</td>\n",
       "      <td>3</td>\n",
       "      <td>1</td>\n",
       "      <td>0</td>\n",
       "      <td>A02</td>\n",
       "      <td>2019-08-05</td>\n",
       "      <td>10:53</td>\n",
       "      <td>8782</td>\n",
       "      <td>NaN</td>\n",
       "      <td>오야니</td>\n",
       "      <td>8.0</td>\n",
       "      <td>356.0</td>\n",
       "      <td>unknown</td>\n",
       "      <td>mobile_app</td>\n",
       "    </tr>\n",
       "    <tr>\n",
       "      <td>3196357</td>\n",
       "      <td>31040</td>\n",
       "      <td>1</td>\n",
       "      <td>1</td>\n",
       "      <td>0</td>\n",
       "      <td>A02</td>\n",
       "      <td>2019-08-15</td>\n",
       "      <td>03:47</td>\n",
       "      <td>13525</td>\n",
       "      <td>NaN</td>\n",
       "      <td>다이슨 에어랩</td>\n",
       "      <td>4.0</td>\n",
       "      <td>62.0</td>\n",
       "      <td>unknown</td>\n",
       "      <td>mobile_web</td>\n",
       "    </tr>\n",
       "    <tr>\n",
       "      <td>3196358</td>\n",
       "      <td>4129</td>\n",
       "      <td>1</td>\n",
       "      <td>2</td>\n",
       "      <td>0</td>\n",
       "      <td>A02</td>\n",
       "      <td>2019-07-21</td>\n",
       "      <td>01:22</td>\n",
       "      <td>250099</td>\n",
       "      <td>NaN</td>\n",
       "      <td>여성메탈시계</td>\n",
       "      <td>3.0</td>\n",
       "      <td>250.0</td>\n",
       "      <td>unknown</td>\n",
       "      <td>mobile_web</td>\n",
       "    </tr>\n",
       "    <tr>\n",
       "      <td>3196359</td>\n",
       "      <td>4129</td>\n",
       "      <td>1</td>\n",
       "      <td>1</td>\n",
       "      <td>0</td>\n",
       "      <td>A02</td>\n",
       "      <td>2019-07-21</td>\n",
       "      <td>01:18</td>\n",
       "      <td>1525</td>\n",
       "      <td>NaN</td>\n",
       "      <td>여성메탈시계</td>\n",
       "      <td>3.0</td>\n",
       "      <td>250.0</td>\n",
       "      <td>unknown</td>\n",
       "      <td>mobile_web</td>\n",
       "    </tr>\n",
       "    <tr>\n",
       "      <td>3196360</td>\n",
       "      <td>54403</td>\n",
       "      <td>3</td>\n",
       "      <td>1</td>\n",
       "      <td>0</td>\n",
       "      <td>A02</td>\n",
       "      <td>2019-07-31</td>\n",
       "      <td>20:14</td>\n",
       "      <td>16905</td>\n",
       "      <td>NaN</td>\n",
       "      <td>비비고왕교자</td>\n",
       "      <td>3.0</td>\n",
       "      <td>68.0</td>\n",
       "      <td>unknown</td>\n",
       "      <td>mobile_app</td>\n",
       "    </tr>\n",
       "    <tr>\n",
       "      <td>3196361</td>\n",
       "      <td>54403</td>\n",
       "      <td>4</td>\n",
       "      <td>1</td>\n",
       "      <td>0</td>\n",
       "      <td>A02</td>\n",
       "      <td>2019-08-18</td>\n",
       "      <td>16:35</td>\n",
       "      <td>82700</td>\n",
       "      <td>NaN</td>\n",
       "      <td>에포테쉬볼륨팝브러쉬</td>\n",
       "      <td>5.0</td>\n",
       "      <td>101.0</td>\n",
       "      <td>unknown</td>\n",
       "      <td>mobile_app</td>\n",
       "    </tr>\n",
       "  </tbody>\n",
       "</table>\n",
       "</div>"
      ],
      "text/plain": [
       "         clnt_id  sess_id  hit_seq  action_type biz_unit    sess_dt hit_tm  \\\n",
       "3196352    31032        3        5            0      A02 2019-08-05  10:54   \n",
       "3196353    31032        2        6            0      A02 2019-08-04  22:37   \n",
       "3196354    31032        2        9            0      A02 2019-08-04  22:41   \n",
       "3196355    31032        2        1            0      A02 2019-08-04  22:35   \n",
       "3196356    31032        3        1            0      A02 2019-08-05  10:53   \n",
       "3196357    31040        1        1            0      A02 2019-08-15  03:47   \n",
       "3196358     4129        1        2            0      A02 2019-07-21  01:22   \n",
       "3196359     4129        1        1            0      A02 2019-07-21  01:18   \n",
       "3196360    54403        3        1            0      A02 2019-07-31  20:14   \n",
       "3196361    54403        4        1            0      A02 2019-08-18  16:35   \n",
       "\n",
       "         hit_pss_tm  trans_id    sech_kwd  tot_pag_view_ct  tot_sess_hr_v  \\\n",
       "3196352       47963       NaN         오야니              8.0          356.0   \n",
       "3196353      527684       NaN         오야니             19.0         1047.0   \n",
       "3196354      771472       NaN         오야니             19.0         1047.0   \n",
       "3196355      356864       NaN       양가죽자켓             19.0         1047.0   \n",
       "3196356        8782       NaN         오야니              8.0          356.0   \n",
       "3196357       13525       NaN     다이슨 에어랩              4.0           62.0   \n",
       "3196358      250099       NaN      여성메탈시계              3.0          250.0   \n",
       "3196359        1525       NaN      여성메탈시계              3.0          250.0   \n",
       "3196360       16905       NaN      비비고왕교자              3.0           68.0   \n",
       "3196361       82700       NaN  에포테쉬볼륨팝브러쉬              5.0          101.0   \n",
       "\n",
       "        trfc_src  dvc_ctg_nm  \n",
       "3196352  unknown  mobile_app  \n",
       "3196353  unknown  mobile_app  \n",
       "3196354  unknown  mobile_app  \n",
       "3196355  unknown  mobile_app  \n",
       "3196356  unknown  mobile_app  \n",
       "3196357  unknown  mobile_web  \n",
       "3196358  unknown  mobile_web  \n",
       "3196359  unknown  mobile_web  \n",
       "3196360  unknown  mobile_app  \n",
       "3196361  unknown  mobile_app  "
      ]
     },
     "execution_count": 18,
     "metadata": {},
     "output_type": "execute_result"
    }
   ],
   "source": [
    "print(df_action.shape)\n",
    "df_action.tail(10)"
   ]
  },
  {
   "cell_type": "markdown",
   "metadata": {},
   "source": [
    "### Missing Data"
   ]
  },
  {
   "cell_type": "code",
   "execution_count": 19,
   "metadata": {},
   "outputs": [
    {
     "data": {
      "image/png": "[encoded data removed]",
      "text/plain": [
       "<Figure size 648x360 with 1 Axes>"
      ]
     },
     "metadata": {
      "needs_background": "light"
     },
     "output_type": "display_data"
    }
   ],
   "source": [
    "df_missing = df_action.isnull().sum(axis=0).reset_index()\n",
    "df_missing.columns = ['column_name', 'missing_count']\n",
    "df_missing = df_missing.loc[df_missing['missing_count']>0]\n",
    "ind = np.arange(df_missing.shape[0])\n",
    "fig, ax = plt.subplots(figsize=(9,5))\n",
    "rects = ax.barh(ind, (df_missing.missing_count.values/len(df_action))*100, color='r')\n",
    "ax.set_yticks(ind)\n",
    "ax.set_yticklabels(df_missing.column_name.values, rotation='horizontal')\n",
    "ax.set_xlabel(\"% of missing values\")\n",
    "plt.show()"
   ]
  },
  {
   "cell_type": "code",
   "execution_count": 20,
   "metadata": {},
   "outputs": [],
   "source": [
    "def convert_str(row):\n",
    "    if row['action_type'] == 0:\n",
    "        return '검색'\n",
    "    elif row['action_type'] == 1:\n",
    "        return '제품목록'\n",
    "    elif row['action_type'] == 2:\n",
    "        return '제품 세부정보 보기'\n",
    "    elif row['action_type'] == 3:\n",
    "        return '장바구니 제품 추가'\n",
    "    elif row['action_type'] == 4:\n",
    "        return '장바구니 제품 삭제'\n",
    "    elif row['action_type'] == 5:\n",
    "        return '결제 시도'\n",
    "    elif row['action_type'] == 6:\n",
    "        return '구매 완료'\n",
    "    elif row['action_type'] == 7:\n",
    "        return '구매 환불'\n",
    "    else:\n",
    "        return '결제 옵션'"
   ]
  },
  {
   "cell_type": "code",
   "execution_count": 21,
   "metadata": {},
   "outputs": [],
   "source": [
    "df_action['action_type_str'] = df_action.apply(lambda row: convert_str(row), axis=1)"
   ]
  },
  {
   "cell_type": "markdown",
   "metadata": {},
   "source": [
    "#### action type별 빈도수\n",
    "- 결제시도 및 검색의 빈도수가 제일 높았다."
   ]
  },
  {
   "cell_type": "code",
   "execution_count": 22,
   "metadata": {},
   "outputs": [
    {
     "data": {
      "text/plain": [
       "Text(0.5, 1.0, 'Frequency of Action type')"
      ]
     },
     "execution_count": 22,
     "metadata": {},
     "output_type": "execute_result"
    },
    {
     "data": {
      "image/png": "[encoded data removed]",
      "text/plain": [
       "<Figure size 864x576 with 1 Axes>"
      ]
     },
     "metadata": {
      "needs_background": "light"
     },
     "output_type": "display_data"
    }
   ],
   "source": [
    "color = sns.color_palette()\n",
    "plt.figure(figsize=(12,8))\n",
    "sns.countplot(x=\"action_type_str\", data=df_action, color=color[0])\n",
    "plt.ylabel('Count', fontsize=12)\n",
    "plt.xlabel('Action type', fontsize=12)\n",
    "plt.xticks(rotation=45)\n",
    "plt.title('Frequency of Action type')"
   ]
  },
  {
   "cell_type": "markdown",
   "metadata": {},
   "source": [
    "#### 기기유형별 빈도수\n",
    "- mobile web & web 에서의 사용 빈도수가 상대적으로 PC보다 높습니다."
   ]
  },
  {
   "cell_type": "code",
   "execution_count": 23,
   "metadata": {},
   "outputs": [
    {
     "data": {
      "text/plain": [
       "Text(0.5, 1.0, '기기유형')"
      ]
     },
     "execution_count": 23,
     "metadata": {},
     "output_type": "execute_result"
    },
    {
     "data": {
      "image/png": "[encoded data removed]",
      "text/plain": [
       "<Figure size 864x576 with 1 Axes>"
      ]
     },
     "metadata": {
      "needs_background": "light"
     },
     "output_type": "display_data"
    }
   ],
   "source": [
    "plt.figure(figsize=(12,8))\n",
    "sns.countplot(x=\"dvc_ctg_nm\", data=df_action, color=color[0])\n",
    "plt.ylabel('Count', fontsize=12)\n",
    "plt.xlabel('device type', fontsize=12)\n",
    "plt.xticks(rotation=45)\n",
    "plt.title('기기유형')"
   ]
  },
  {
   "cell_type": "markdown",
   "metadata": {},
   "source": [
    "## Transaction columns\n",
    "- clnt_id : 클라이언트 ID \n",
    "- trans_id : 거래 ID\n",
    "- trans_seq: 거래일련번호, 해당 거래 ID의 구매 내역 내 구매 순서를 알 수 있도록 부여된 일련번호\n",
    "- biz_unit : 업종단위  \n",
    "- pd_c : 상품소분류코드,\n",
    "- de_dt : 상품을 구매한 일자 (YYYYMMDD)\n",
    "- de_tm : 상품을 구매한 시각 (HH:MM)\n",
    "- buy_am : 구매한 상품의 금액\n",
    "- buy_ct : 구매한 상품의 수량"
   ]
  },
  {
   "cell_type": "code",
   "execution_count": 24,
   "metadata": {},
   "outputs": [
    {
     "name": "stdout",
     "output_type": "stream",
     "text": [
      "(599961, 9)\n"
     ]
    },
    {
     "data": {
      "text/html": [
       "<div>\n",
       "<style scoped>\n",
       "    .dataframe tbody tr th:only-of-type {\n",
       "        vertical-align: middle;\n",
       "    }\n",
       "\n",
       "    .dataframe tbody tr th {\n",
       "        vertical-align: top;\n",
       "    }\n",
       "\n",
       "    .dataframe thead th {\n",
       "        text-align: right;\n",
       "    }\n",
       "</style>\n",
       "<table border=\"1\" class=\"dataframe\">\n",
       "  <thead>\n",
       "    <tr style=\"text-align: right;\">\n",
       "      <th></th>\n",
       "      <th>clnt_id</th>\n",
       "      <th>trans_id</th>\n",
       "      <th>trans_seq</th>\n",
       "      <th>biz_unit</th>\n",
       "      <th>pd_c</th>\n",
       "      <th>de_dt</th>\n",
       "      <th>de_tm</th>\n",
       "      <th>buy_am</th>\n",
       "      <th>buy_ct</th>\n",
       "    </tr>\n",
       "  </thead>\n",
       "  <tbody>\n",
       "    <tr>\n",
       "      <td>599951</td>\n",
       "      <td>2400</td>\n",
       "      <td>4453</td>\n",
       "      <td>2</td>\n",
       "      <td>B03</td>\n",
       "      <td>0313</td>\n",
       "      <td>2019-09-27</td>\n",
       "      <td>11:25</td>\n",
       "      <td>7700</td>\n",
       "      <td>1</td>\n",
       "    </tr>\n",
       "    <tr>\n",
       "      <td>599952</td>\n",
       "      <td>28484</td>\n",
       "      <td>13342</td>\n",
       "      <td>1</td>\n",
       "      <td>B03</td>\n",
       "      <td>1060</td>\n",
       "      <td>2019-09-27</td>\n",
       "      <td>15:47</td>\n",
       "      <td>5000</td>\n",
       "      <td>1</td>\n",
       "    </tr>\n",
       "    <tr>\n",
       "      <td>599953</td>\n",
       "      <td>54080</td>\n",
       "      <td>2842</td>\n",
       "      <td>2</td>\n",
       "      <td>B03</td>\n",
       "      <td>0339</td>\n",
       "      <td>2019-09-27</td>\n",
       "      <td>16:16</td>\n",
       "      <td>5200</td>\n",
       "      <td>1</td>\n",
       "    </tr>\n",
       "    <tr>\n",
       "      <td>599954</td>\n",
       "      <td>54080</td>\n",
       "      <td>2842</td>\n",
       "      <td>1</td>\n",
       "      <td>B03</td>\n",
       "      <td>1066</td>\n",
       "      <td>2019-09-27</td>\n",
       "      <td>16:16</td>\n",
       "      <td>12600</td>\n",
       "      <td>1</td>\n",
       "    </tr>\n",
       "    <tr>\n",
       "      <td>599955</td>\n",
       "      <td>35311</td>\n",
       "      <td>2839</td>\n",
       "      <td>1</td>\n",
       "      <td>B03</td>\n",
       "      <td>0339</td>\n",
       "      <td>2019-09-27</td>\n",
       "      <td>14:09</td>\n",
       "      <td>4500</td>\n",
       "      <td>1</td>\n",
       "    </tr>\n",
       "    <tr>\n",
       "      <td>599956</td>\n",
       "      <td>35311</td>\n",
       "      <td>2839</td>\n",
       "      <td>3</td>\n",
       "      <td>B03</td>\n",
       "      <td>0339</td>\n",
       "      <td>2019-09-27</td>\n",
       "      <td>14:09</td>\n",
       "      <td>3500</td>\n",
       "      <td>1</td>\n",
       "    </tr>\n",
       "    <tr>\n",
       "      <td>599957</td>\n",
       "      <td>35311</td>\n",
       "      <td>2839</td>\n",
       "      <td>4</td>\n",
       "      <td>B03</td>\n",
       "      <td>0339</td>\n",
       "      <td>2019-09-27</td>\n",
       "      <td>14:09</td>\n",
       "      <td>3600</td>\n",
       "      <td>2</td>\n",
       "    </tr>\n",
       "    <tr>\n",
       "      <td>599958</td>\n",
       "      <td>35311</td>\n",
       "      <td>2839</td>\n",
       "      <td>5</td>\n",
       "      <td>B03</td>\n",
       "      <td>0339</td>\n",
       "      <td>2019-09-27</td>\n",
       "      <td>14:09</td>\n",
       "      <td>3500</td>\n",
       "      <td>1</td>\n",
       "    </tr>\n",
       "    <tr>\n",
       "      <td>599959</td>\n",
       "      <td>35311</td>\n",
       "      <td>2839</td>\n",
       "      <td>2</td>\n",
       "      <td>B03</td>\n",
       "      <td>0339</td>\n",
       "      <td>2019-09-27</td>\n",
       "      <td>14:09</td>\n",
       "      <td>4500</td>\n",
       "      <td>1</td>\n",
       "    </tr>\n",
       "    <tr>\n",
       "      <td>599960</td>\n",
       "      <td>35311</td>\n",
       "      <td>2839</td>\n",
       "      <td>6</td>\n",
       "      <td>B03</td>\n",
       "      <td>0324</td>\n",
       "      <td>2019-09-27</td>\n",
       "      <td>14:09</td>\n",
       "      <td>6800</td>\n",
       "      <td>1</td>\n",
       "    </tr>\n",
       "  </tbody>\n",
       "</table>\n",
       "</div>"
      ],
      "text/plain": [
       "        clnt_id  trans_id  trans_seq biz_unit  pd_c      de_dt  de_tm  buy_am  \\\n",
       "599951     2400      4453          2      B03  0313 2019-09-27  11:25    7700   \n",
       "599952    28484     13342          1      B03  1060 2019-09-27  15:47    5000   \n",
       "599953    54080      2842          2      B03  0339 2019-09-27  16:16    5200   \n",
       "599954    54080      2842          1      B03  1066 2019-09-27  16:16   12600   \n",
       "599955    35311      2839          1      B03  0339 2019-09-27  14:09    4500   \n",
       "599956    35311      2839          3      B03  0339 2019-09-27  14:09    3500   \n",
       "599957    35311      2839          4      B03  0339 2019-09-27  14:09    3600   \n",
       "599958    35311      2839          5      B03  0339 2019-09-27  14:09    3500   \n",
       "599959    35311      2839          2      B03  0339 2019-09-27  14:09    4500   \n",
       "599960    35311      2839          6      B03  0324 2019-09-27  14:09    6800   \n",
       "\n",
       "        buy_ct  \n",
       "599951       1  \n",
       "599952       1  \n",
       "599953       1  \n",
       "599954       1  \n",
       "599955       1  \n",
       "599956       1  \n",
       "599957       2  \n",
       "599958       1  \n",
       "599959       1  \n",
       "599960       1  "
      ]
     },
     "execution_count": 24,
     "metadata": {},
     "output_type": "execute_result"
    }
   ],
   "source": [
    "print(df_transaction.shape)\n",
    "df_transaction.tail(10)"
   ]
  },
  {
   "cell_type": "markdown",
   "metadata": {},
   "source": [
    "#### 구매시기별 구매갯수 \n",
    "- 데이터가 7월~ 10월 3개월분 데이터이다.\n",
    "- 전체적으로 구매 갯수는 비슷하게 보였으며 19년 9월 1일에 최대 구매갯수가 발생하였다"
   ]
  },
  {
   "cell_type": "code",
   "execution_count": 29,
   "metadata": {},
   "outputs": [
    {
     "data": {
      "image/png": "[encoded data removed]",
      "text/plain": [
       "<Figure size 360x360 with 1 Axes>"
      ]
     },
     "metadata": {
      "needs_background": "light"
     },
     "output_type": "display_data"
    }
   ],
   "source": [
    "g = sns.relplot(x=\"de_dt\", y=\"buy_ct\", kind=\"line\", data=df_transaction)\n",
    "g.set_xticklabels(rotation=30)\n",
    "plt.show()"
   ]
  },
  {
   "cell_type": "markdown",
   "metadata": {},
   "source": [
    "#### 요일별 빈도수\n",
    "- 토요일에 구매 빈도수가 제일 높고 일요일에 구매 빈도수가 제일 낮습니다"
   ]
  },
  {
   "cell_type": "code",
   "execution_count": 30,
   "metadata": {},
   "outputs": [],
   "source": [
    "df_transaction['dedt_name'] = df_transaction.de_dt.dt.weekday_name"
   ]
  },
  {
   "cell_type": "code",
   "execution_count": 31,
   "metadata": {},
   "outputs": [
    {
     "data": {
      "text/plain": [
       "Text(0.5, 1.0, 'Frequency of transaction by week day')"
      ]
     },
     "execution_count": 31,
     "metadata": {},
     "output_type": "execute_result"
    },
    {
     "data": {
      "image/png": "[encoded data removed]",
      "text/plain": [
       "<Figure size 864x576 with 1 Axes>"
      ]
     },
     "metadata": {
      "needs_background": "light"
     },
     "output_type": "display_data"
    }
   ],
   "source": [
    "plt.figure(figsize=(12,8))\n",
    "sns.countplot(x=\"dedt_name\", order=['Monday','Tuesday','Wednesday','Thursday','Friday','Saturday', 'Sunday'], data=df_transaction, color=color[0])\n",
    "plt.ylabel('Count', fontsize=12)\n",
    "plt.xlabel('Day of week', fontsize=12)\n",
    "plt.title('Frequency of transaction by week day')"
   ]
  },
  {
   "cell_type": "markdown",
   "metadata": {},
   "source": [
    "#### 시간대별 빈도수\n",
    "- 17시에 빈도수가 제일 높으며 새벽대에는 전체적으로 빈도수가 낮았습니다."
   ]
  },
  {
   "cell_type": "code",
   "execution_count": 32,
   "metadata": {},
   "outputs": [
    {
     "data": {
      "text/plain": [
       "Text(0.5, 1.0, 'Frequency of order by hour of day')"
      ]
     },
     "execution_count": 32,
     "metadata": {},
     "output_type": "execute_result"
    },
    {
     "data": {
      "image/png": "[encoded data removed]",
      "text/plain": [
       "<Figure size 864x576 with 1 Axes>"
      ]
     },
     "metadata": {
      "needs_background": "light"
     },
     "output_type": "display_data"
    }
   ],
   "source": [
    "df_transaction[\"de_tm_hour\"] = df_transaction[\"de_tm\"].apply(lambda time: time.split(':')[0])\n",
    "plt.figure(figsize=(12,8))\n",
    "sns.countplot(x=\"de_tm_hour\", data=df_transaction, color=color[0])\n",
    "plt.ylabel('Count', fontsize=12)\n",
    "plt.xlabel('Hour of day', fontsize=12)\n",
    "plt.title('Frequency of order by hour of day')"
   ]
  },
  {
   "cell_type": "markdown",
   "metadata": {},
   "source": [
    "#### 요일별 & 시간대별 빈도수 Heatmap\n",
    "- 토요일은 오전부터 저녁까지 빈도수가 높음을 보이고 일요일은 대체적으로 빈도수가 적음을 보였습니다."
   ]
  },
  {
   "cell_type": "code",
   "execution_count": 35,
   "metadata": {},
   "outputs": [
    {
     "data": {
      "image/png": "[encoded data removed]",
      "text/plain": [
       "<Figure size 864x432 with 2 Axes>"
      ]
     },
     "metadata": {
      "needs_background": "light"
     },
     "output_type": "display_data"
    }
   ],
   "source": [
    "grouped_df = df_transaction.groupby([\"dedt_name\", \"de_tm_hour\"])[\"buy_ct\"].aggregate(\"count\").reset_index()\n",
    "grouped_df = grouped_df.pivot('dedt_name', 'de_tm_hour', 'buy_ct').T\n",
    "\n",
    "plt.figure(figsize=(12, 6))\n",
    "sns.heatmap(grouped_df, cmap='PuOr')\n",
    "plt.title(\"Frequency of Day of week Vs Hour of day\")\n",
    "plt.show()"
   ]
  },
  {
   "cell_type": "markdown",
   "metadata": {},
   "source": [
    "## Client Demographic\n",
    "- clnt_id : 클라이언트 ID\n",
    "- clnt_gender : 성별 [M/F/unknown]\n",
    "- clnt_age : 연령대 [10대 이하/ 20대/ 30대/ 40대/ 50대/ 60대 이상/ 정보없음 : unknown]"
   ]
  },
  {
   "cell_type": "code",
   "execution_count": 26,
   "metadata": {},
   "outputs": [
    {
     "name": "stdout",
     "output_type": "stream",
     "text": [
      "(72399, 3)\n"
     ]
    },
    {
     "data": {
      "text/html": [
       "<div>\n",
       "<style scoped>\n",
       "    .dataframe tbody tr th:only-of-type {\n",
       "        vertical-align: middle;\n",
       "    }\n",
       "\n",
       "    .dataframe tbody tr th {\n",
       "        vertical-align: top;\n",
       "    }\n",
       "\n",
       "    .dataframe thead th {\n",
       "        text-align: right;\n",
       "    }\n",
       "</style>\n",
       "<table border=\"1\" class=\"dataframe\">\n",
       "  <thead>\n",
       "    <tr style=\"text-align: right;\">\n",
       "      <th></th>\n",
       "      <th>clnt_id</th>\n",
       "      <th>clnt_gender</th>\n",
       "      <th>clnt_age</th>\n",
       "    </tr>\n",
       "  </thead>\n",
       "  <tbody>\n",
       "    <tr>\n",
       "      <td>72389</td>\n",
       "      <td>72420</td>\n",
       "      <td>unknown</td>\n",
       "      <td>unknown</td>\n",
       "    </tr>\n",
       "    <tr>\n",
       "      <td>72390</td>\n",
       "      <td>72421</td>\n",
       "      <td>unknown</td>\n",
       "      <td>unknown</td>\n",
       "    </tr>\n",
       "    <tr>\n",
       "      <td>72391</td>\n",
       "      <td>72422</td>\n",
       "      <td>unknown</td>\n",
       "      <td>unknown</td>\n",
       "    </tr>\n",
       "    <tr>\n",
       "      <td>72392</td>\n",
       "      <td>72423</td>\n",
       "      <td>F</td>\n",
       "      <td>30</td>\n",
       "    </tr>\n",
       "    <tr>\n",
       "      <td>72393</td>\n",
       "      <td>72424</td>\n",
       "      <td>M</td>\n",
       "      <td>40</td>\n",
       "    </tr>\n",
       "    <tr>\n",
       "      <td>72394</td>\n",
       "      <td>72425</td>\n",
       "      <td>unknown</td>\n",
       "      <td>unknown</td>\n",
       "    </tr>\n",
       "    <tr>\n",
       "      <td>72395</td>\n",
       "      <td>72426</td>\n",
       "      <td>unknown</td>\n",
       "      <td>unknown</td>\n",
       "    </tr>\n",
       "    <tr>\n",
       "      <td>72396</td>\n",
       "      <td>72427</td>\n",
       "      <td>unknown</td>\n",
       "      <td>unknown</td>\n",
       "    </tr>\n",
       "    <tr>\n",
       "      <td>72397</td>\n",
       "      <td>72428</td>\n",
       "      <td>unknown</td>\n",
       "      <td>unknown</td>\n",
       "    </tr>\n",
       "    <tr>\n",
       "      <td>72398</td>\n",
       "      <td>72429</td>\n",
       "      <td>unknown</td>\n",
       "      <td>unknown</td>\n",
       "    </tr>\n",
       "  </tbody>\n",
       "</table>\n",
       "</div>"
      ],
      "text/plain": [
       "       clnt_id clnt_gender clnt_age\n",
       "72389    72420     unknown  unknown\n",
       "72390    72421     unknown  unknown\n",
       "72391    72422     unknown  unknown\n",
       "72392    72423           F       30\n",
       "72393    72424           M       40\n",
       "72394    72425     unknown  unknown\n",
       "72395    72426     unknown  unknown\n",
       "72396    72427     unknown  unknown\n",
       "72397    72428     unknown  unknown\n",
       "72398    72429     unknown  unknown"
      ]
     },
     "execution_count": 26,
     "metadata": {},
     "output_type": "execute_result"
    }
   ],
   "source": [
    "print(df_client_demo.shape)\n",
    "df_client_demo.tail(10)"
   ]
  },
  {
   "cell_type": "code",
   "execution_count": 37,
   "metadata": {},
   "outputs": [
    {
     "data": {
      "text/plain": [
       "Text(0.5, 1.0, '고객 성별 빈도수')"
      ]
     },
     "execution_count": 37,
     "metadata": {},
     "output_type": "execute_result"
    },
    {
     "data": {
      "image/png": "[encoded data removed]",
      "text/plain": [
       "<Figure size 864x576 with 1 Axes>"
      ]
     },
     "metadata": {
      "needs_background": "light"
     },
     "output_type": "display_data"
    }
   ],
   "source": [
    "plt.figure(figsize=(12,8))\n",
    "sns.countplot(x=\"clnt_gender\", data=df_client_demo, color=color[0])\n",
    "plt.ylabel('Count', fontsize=12)\n",
    "plt.xlabel('client gender', fontsize=12)\n",
    "# plt.xticks(rotation=45)\n",
    "plt.title('고객 성별 빈도수')"
   ]
  },
  {
   "cell_type": "code",
   "execution_count": 38,
   "metadata": {},
   "outputs": [
    {
     "data": {
      "text/plain": [
       "Text(0.5, 1.0, '고객 연령대')"
      ]
     },
     "execution_count": 38,
     "metadata": {},
     "output_type": "execute_result"
    },
    {
     "data": {
      "image/png": "[encoded data removed]",
      "text/plain": [
       "<Figure size 864x576 with 1 Axes>"
      ]
     },
     "metadata": {
      "needs_background": "light"
     },
     "output_type": "display_data"
    }
   ],
   "source": [
    "plt.figure(figsize=(12,8))\n",
    "sns.countplot(x=\"clnt_age\", data=df_client_demo, color=color[0])\n",
    "plt.ylabel('Count', fontsize=12)\n",
    "plt.xlabel('client age', fontsize=12)\n",
    "# plt.xticks(rotation=45)\n",
    "plt.title('고객 연령대')"
   ]
  },
  {
   "cell_type": "markdown",
   "metadata": {},
   "source": [
    "## Product columns\n",
    "- pd_c : 상품 소분류코드 (최소단위)\n",
    "- clac_nm1 : 상품 대분류명\n",
    "- clac_nm2 : 상품 중분류명\n",
    "- clac_nm3 : 상품 소분류명"
   ]
  },
  {
   "cell_type": "code",
   "execution_count": 27,
   "metadata": {},
   "outputs": [
    {
     "name": "stdout",
     "output_type": "stream",
     "text": [
      "(1667, 4)\n"
     ]
    },
    {
     "data": {
      "text/html": [
       "<div>\n",
       "<style scoped>\n",
       "    .dataframe tbody tr th:only-of-type {\n",
       "        vertical-align: middle;\n",
       "    }\n",
       "\n",
       "    .dataframe tbody tr th {\n",
       "        vertical-align: top;\n",
       "    }\n",
       "\n",
       "    .dataframe thead th {\n",
       "        text-align: right;\n",
       "    }\n",
       "</style>\n",
       "<table border=\"1\" class=\"dataframe\">\n",
       "  <thead>\n",
       "    <tr style=\"text-align: right;\">\n",
       "      <th></th>\n",
       "      <th>pd_c</th>\n",
       "      <th>clac_nm1</th>\n",
       "      <th>clac_nm2</th>\n",
       "      <th>clac_nm3</th>\n",
       "    </tr>\n",
       "  </thead>\n",
       "  <tbody>\n",
       "    <tr>\n",
       "      <td>1657</td>\n",
       "      <td>1658</td>\n",
       "      <td>Women's Clothing</td>\n",
       "      <td>Women's Special Use Clothing</td>\n",
       "      <td>Other Women's Special Use Clothing</td>\n",
       "    </tr>\n",
       "    <tr>\n",
       "      <td>1658</td>\n",
       "      <td>1659</td>\n",
       "      <td>Women's Clothing</td>\n",
       "      <td>Women's Special Use Clothing</td>\n",
       "      <td>Women's Costumes</td>\n",
       "    </tr>\n",
       "    <tr>\n",
       "      <td>1659</td>\n",
       "      <td>1660</td>\n",
       "      <td>Women's Clothing</td>\n",
       "      <td>Women's Special Use Clothing</td>\n",
       "      <td>Women's Fashion Trainingwear</td>\n",
       "    </tr>\n",
       "    <tr>\n",
       "      <td>1660</td>\n",
       "      <td>1661</td>\n",
       "      <td>Women's Clothing</td>\n",
       "      <td>Women's Upper Bodywear / Tops</td>\n",
       "      <td>Women's Blouses</td>\n",
       "    </tr>\n",
       "    <tr>\n",
       "      <td>1661</td>\n",
       "      <td>1662</td>\n",
       "      <td>Women's Clothing</td>\n",
       "      <td>Women's Upper Bodywear / Tops</td>\n",
       "      <td>Women's Button-Down Shirts</td>\n",
       "    </tr>\n",
       "    <tr>\n",
       "      <td>1662</td>\n",
       "      <td>1663</td>\n",
       "      <td>Women's Clothing</td>\n",
       "      <td>Women's Upper Bodywear / Tops</td>\n",
       "      <td>Women's Cardigans</td>\n",
       "    </tr>\n",
       "    <tr>\n",
       "      <td>1663</td>\n",
       "      <td>1664</td>\n",
       "      <td>Women's Clothing</td>\n",
       "      <td>Women's Upper Bodywear / Tops</td>\n",
       "      <td>Women's Sweaters / Pullover</td>\n",
       "    </tr>\n",
       "    <tr>\n",
       "      <td>1664</td>\n",
       "      <td>1665</td>\n",
       "      <td>Women's Clothing</td>\n",
       "      <td>Women's Upper Bodywear / Tops</td>\n",
       "      <td>Women's Sweatshirts / Hoodies</td>\n",
       "    </tr>\n",
       "    <tr>\n",
       "      <td>1665</td>\n",
       "      <td>1666</td>\n",
       "      <td>Women's Clothing</td>\n",
       "      <td>Women's Upper Bodywear / Tops</td>\n",
       "      <td>Women's T-shirts / Tops</td>\n",
       "    </tr>\n",
       "    <tr>\n",
       "      <td>1666</td>\n",
       "      <td>1667</td>\n",
       "      <td>Women's Clothing</td>\n",
       "      <td>Women's Upper Bodywear / Tops</td>\n",
       "      <td>Women's Vests</td>\n",
       "    </tr>\n",
       "  </tbody>\n",
       "</table>\n",
       "</div>"
      ],
      "text/plain": [
       "      pd_c          clac_nm1                       clac_nm2  \\\n",
       "1657  1658  Women's Clothing   Women's Special Use Clothing   \n",
       "1658  1659  Women's Clothing   Women's Special Use Clothing   \n",
       "1659  1660  Women's Clothing   Women's Special Use Clothing   \n",
       "1660  1661  Women's Clothing  Women's Upper Bodywear / Tops   \n",
       "1661  1662  Women's Clothing  Women's Upper Bodywear / Tops   \n",
       "1662  1663  Women's Clothing  Women's Upper Bodywear / Tops   \n",
       "1663  1664  Women's Clothing  Women's Upper Bodywear / Tops   \n",
       "1664  1665  Women's Clothing  Women's Upper Bodywear / Tops   \n",
       "1665  1666  Women's Clothing  Women's Upper Bodywear / Tops   \n",
       "1666  1667  Women's Clothing  Women's Upper Bodywear / Tops   \n",
       "\n",
       "                                clac_nm3  \n",
       "1657  Other Women's Special Use Clothing  \n",
       "1658                    Women's Costumes  \n",
       "1659        Women's Fashion Trainingwear  \n",
       "1660                     Women's Blouses  \n",
       "1661          Women's Button-Down Shirts  \n",
       "1662                   Women's Cardigans  \n",
       "1663         Women's Sweaters / Pullover  \n",
       "1664       Women's Sweatshirts / Hoodies  \n",
       "1665             Women's T-shirts / Tops  \n",
       "1666                       Women's Vests  "
      ]
     },
     "execution_count": 27,
     "metadata": {},
     "output_type": "execute_result"
    }
   ],
   "source": [
    "print(df_product.shape)\n",
    "df_product.tail(10)"
   ]
  },
  {
   "cell_type": "markdown",
   "metadata": {},
   "source": [
    "### Missing Data"
   ]
  },
  {
   "cell_type": "code",
   "execution_count": 28,
   "metadata": {},
   "outputs": [
    {
     "data": {
      "image/png": "[encoded data removed]",
      "text/plain": [
       "<Figure size 576x72 with 1 Axes>"
      ]
     },
     "metadata": {
      "needs_background": "light"
     },
     "output_type": "display_data"
    }
   ],
   "source": [
    "df_missing = df_product.isnull().sum(axis=0).reset_index()\n",
    "df_missing.columns = ['column_name', 'missing_count']\n",
    "df_missing = df_missing.loc[df_missing['missing_count']>0]\n",
    "ind = np.arange(df_missing.shape[0])\n",
    "fig, ax = plt.subplots(figsize=(8,1))\n",
    "rects = ax.barh(ind, (df_missing.missing_count.values/len(df_product))*100, color='r')\n",
    "ax.set_yticks(ind)\n",
    "ax.set_yticklabels(df_missing.column_name.values, rotation='horizontal')\n",
    "ax.set_xlabel(\"% of missing values\")\n",
    "plt.show()"
   ]
  },
  {
   "cell_type": "code",
   "execution_count": null,
   "metadata": {},
   "outputs": [],
   "source": []
  },
  {
   "cell_type": "code",
   "execution_count": null,
   "metadata": {},
   "outputs": [],
   "source": []
  },
  {
   "cell_type": "code",
   "execution_count": null,
   "metadata": {},
   "outputs": [],
   "source": []
  }
 ],
 "metadata": {
  "kernelspec": {
   "display_name": "Python 3",
   "language": "python",
   "name": "python3"
  },
  "language_info": {
   "codemirror_mode": {
    "name": "ipython",
    "version": 3
   },
   "file_extension": ".py",
   "mimetype": "text/x-python",
   "name": "python",
   "nbconvert_exporter": "python",
   "pygments_lexer": "ipython3",
   "version": "3.7.0"
  }
 },
 "nbformat": 4,
 "nbformat_minor": 4
}
