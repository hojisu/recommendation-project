{
 "cells": [
  {
   "cell_type": "code",
   "execution_count": 2,
   "metadata": {},
   "outputs": [],
   "source": [
    "import numpy as np\n",
    "import pandas as pd"
   ]
  },
  {
   "cell_type": "code",
   "execution_count": null,
   "metadata": {},
   "outputs": [],
   "source": [
    "class RandomPred:\n",
    "    '''\n",
    "    RandomPred()\n",
    "    \n",
    "    Initializes a random predcitor, which is a baseline predictor that gives back a random score for each item.  \n",
    "    \n",
    "    '''\n",
    "    def fit(self, data):\n",
    "        '''\n",
    "        Dummy function for training.\n",
    "        \n",
    "        Parameters\n",
    "        ----------\n",
    "        data: pandas.DataFrame\n",
    "            Training data. It contains the transactions of the sessions. It has one column for session IDs, one for item IDs and one for the timestamp of the events (unix timestamps).\n",
    "            It must have a header. Column names are arbitrary, but must correspond to the ones you set during the initialization of the network(session_key, item_key, time_key properties).\n",
    "        '''\n",
    "        pass\n",
    "    def predict_next(self, session_id, input_item_id, predict_for_item_ids):"
   ]
  }
 ],
 "metadata": {
  "kernelspec": {
   "display_name": "Python 3",
   "language": "python",
   "name": "python3"
  },
  "language_info": {
   "codemirror_mode": {
    "name": "ipython",
    "version": 3
   },
   "file_extension": ".py",
   "mimetype": "text/x-python",
   "name": "python",
   "nbconvert_exporter": "python",
   "pygments_lexer": "ipython3",
   "version": "3.7.0"
  }
 },
 "nbformat": 4,
 "nbformat_minor": 4
}
