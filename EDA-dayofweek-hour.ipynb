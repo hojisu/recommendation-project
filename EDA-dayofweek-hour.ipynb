{
 "cells": [
  {
   "cell_type": "code",
   "execution_count": 1,
   "metadata": {},
   "outputs": [],
   "source": [
    "import datetime\n",
    "import numpy as np\n",
    "import pandas as pd\n",
    "import matplotlib.pyplot as plt\n",
    "import seaborn as sns\n",
    "color = sns.color_palette()\n",
    "\n",
    "%matplotlib inline"
   ]
  },
  {
   "cell_type": "code",
   "execution_count": 2,
   "metadata": {},
   "outputs": [],
   "source": [
    "df_action = pd.read_csv('../input/제6회 L.POINT Big Data Competition-분석용데이터-01.온라인 행동 정보.csv', parse_dates=['sess_dt'])\n",
    "df_transaction = pd.read_csv('../input/제6회 L.POINT Big Data Competition-분석용데이터-02.거래 정보.csv', parse_dates=['de_dt'])\n",
    "df_client_demo = pd.read_csv('../input/제6회 L.POINT Big Data Competition-분석용데이터-03.고객 Demographic 정보.csv')\n",
    "df_product = pd.read_csv('../input/제6회 L.POINT Big Data Competition-분석용데이터-04.상품분류 정보.csv')"
   ]
  },
  {
   "cell_type": "code",
   "execution_count": 3,
   "metadata": {},
   "outputs": [
    {
     "data": {
      "text/html": [
       "<div>\n",
       "<style scoped>\n",
       "    .dataframe tbody tr th:only-of-type {\n",
       "        vertical-align: middle;\n",
       "    }\n",
       "\n",
       "    .dataframe tbody tr th {\n",
       "        vertical-align: top;\n",
       "    }\n",
       "\n",
       "    .dataframe thead th {\n",
       "        text-align: right;\n",
       "    }\n",
       "</style>\n",
       "<table border=\"1\" class=\"dataframe\">\n",
       "  <thead>\n",
       "    <tr style=\"text-align: right;\">\n",
       "      <th></th>\n",
       "      <th>clnt_id</th>\n",
       "      <th>sess_id</th>\n",
       "      <th>hit_seq</th>\n",
       "      <th>action_type</th>\n",
       "      <th>biz_unit</th>\n",
       "      <th>sess_dt</th>\n",
       "      <th>hit_tm</th>\n",
       "      <th>hit_pss_tm</th>\n",
       "      <th>trans_id</th>\n",
       "      <th>sech_kwd</th>\n",
       "      <th>tot_pag_view_ct</th>\n",
       "      <th>tot_sess_hr_v</th>\n",
       "      <th>trfc_src</th>\n",
       "      <th>dvc_ctg_nm</th>\n",
       "    </tr>\n",
       "  </thead>\n",
       "  <tbody>\n",
       "    <tr>\n",
       "      <th>3196360</th>\n",
       "      <td>54403</td>\n",
       "      <td>3</td>\n",
       "      <td>1</td>\n",
       "      <td>0</td>\n",
       "      <td>A02</td>\n",
       "      <td>2019-07-31</td>\n",
       "      <td>20:14</td>\n",
       "      <td>16905</td>\n",
       "      <td>NaN</td>\n",
       "      <td>비비고왕교자</td>\n",
       "      <td>3.0</td>\n",
       "      <td>68.0</td>\n",
       "      <td>unknown</td>\n",
       "      <td>mobile_app</td>\n",
       "    </tr>\n",
       "    <tr>\n",
       "      <th>3196361</th>\n",
       "      <td>54403</td>\n",
       "      <td>4</td>\n",
       "      <td>1</td>\n",
       "      <td>0</td>\n",
       "      <td>A02</td>\n",
       "      <td>2019-08-18</td>\n",
       "      <td>16:35</td>\n",
       "      <td>82700</td>\n",
       "      <td>NaN</td>\n",
       "      <td>에포테쉬볼륨팝브러쉬</td>\n",
       "      <td>5.0</td>\n",
       "      <td>101.0</td>\n",
       "      <td>unknown</td>\n",
       "      <td>mobile_app</td>\n",
       "    </tr>\n",
       "  </tbody>\n",
       "</table>\n",
       "</div>"
      ],
      "text/plain": [
       "         clnt_id  sess_id  hit_seq  action_type biz_unit    sess_dt hit_tm  \\\n",
       "3196360    54403        3        1            0      A02 2019-07-31  20:14   \n",
       "3196361    54403        4        1            0      A02 2019-08-18  16:35   \n",
       "\n",
       "         hit_pss_tm  trans_id    sech_kwd  tot_pag_view_ct  tot_sess_hr_v  \\\n",
       "3196360       16905       NaN      비비고왕교자              3.0           68.0   \n",
       "3196361       82700       NaN  에포테쉬볼륨팝브러쉬              5.0          101.0   \n",
       "\n",
       "        trfc_src  dvc_ctg_nm  \n",
       "3196360  unknown  mobile_app  \n",
       "3196361  unknown  mobile_app  "
      ]
     },
     "execution_count": 3,
     "metadata": {},
     "output_type": "execute_result"
    }
   ],
   "source": [
    "df_action.tail(2)"
   ]
  },
  {
   "cell_type": "code",
   "execution_count": 4,
   "metadata": {},
   "outputs": [
    {
     "data": {
      "text/html": [
       "<div>\n",
       "<style scoped>\n",
       "    .dataframe tbody tr th:only-of-type {\n",
       "        vertical-align: middle;\n",
       "    }\n",
       "\n",
       "    .dataframe tbody tr th {\n",
       "        vertical-align: top;\n",
       "    }\n",
       "\n",
       "    .dataframe thead th {\n",
       "        text-align: right;\n",
       "    }\n",
       "</style>\n",
       "<table border=\"1\" class=\"dataframe\">\n",
       "  <thead>\n",
       "    <tr style=\"text-align: right;\">\n",
       "      <th></th>\n",
       "      <th>clnt_id</th>\n",
       "      <th>trans_id</th>\n",
       "      <th>trans_seq</th>\n",
       "      <th>biz_unit</th>\n",
       "      <th>pd_c</th>\n",
       "      <th>de_dt</th>\n",
       "      <th>de_tm</th>\n",
       "      <th>buy_am</th>\n",
       "      <th>buy_ct</th>\n",
       "    </tr>\n",
       "  </thead>\n",
       "  <tbody>\n",
       "    <tr>\n",
       "      <th>599959</th>\n",
       "      <td>35311</td>\n",
       "      <td>2839</td>\n",
       "      <td>2</td>\n",
       "      <td>B03</td>\n",
       "      <td>0339</td>\n",
       "      <td>2019-09-27</td>\n",
       "      <td>14:09</td>\n",
       "      <td>4500</td>\n",
       "      <td>1</td>\n",
       "    </tr>\n",
       "    <tr>\n",
       "      <th>599960</th>\n",
       "      <td>35311</td>\n",
       "      <td>2839</td>\n",
       "      <td>6</td>\n",
       "      <td>B03</td>\n",
       "      <td>0324</td>\n",
       "      <td>2019-09-27</td>\n",
       "      <td>14:09</td>\n",
       "      <td>6800</td>\n",
       "      <td>1</td>\n",
       "    </tr>\n",
       "  </tbody>\n",
       "</table>\n",
       "</div>"
      ],
      "text/plain": [
       "        clnt_id  trans_id  trans_seq biz_unit  pd_c      de_dt  de_tm  buy_am  \\\n",
       "599959    35311      2839          2      B03  0339 2019-09-27  14:09    4500   \n",
       "599960    35311      2839          6      B03  0324 2019-09-27  14:09    6800   \n",
       "\n",
       "        buy_ct  \n",
       "599959       1  \n",
       "599960       1  "
      ]
     },
     "execution_count": 4,
     "metadata": {},
     "output_type": "execute_result"
    }
   ],
   "source": [
    "df_transaction.tail(2)"
   ]
  },
  {
   "cell_type": "code",
   "execution_count": 5,
   "metadata": {},
   "outputs": [
    {
     "data": {
      "text/html": [
       "<div>\n",
       "<style scoped>\n",
       "    .dataframe tbody tr th:only-of-type {\n",
       "        vertical-align: middle;\n",
       "    }\n",
       "\n",
       "    .dataframe tbody tr th {\n",
       "        vertical-align: top;\n",
       "    }\n",
       "\n",
       "    .dataframe thead th {\n",
       "        text-align: right;\n",
       "    }\n",
       "</style>\n",
       "<table border=\"1\" class=\"dataframe\">\n",
       "  <thead>\n",
       "    <tr style=\"text-align: right;\">\n",
       "      <th></th>\n",
       "      <th>clnt_id</th>\n",
       "      <th>clnt_gender</th>\n",
       "      <th>clnt_age</th>\n",
       "    </tr>\n",
       "  </thead>\n",
       "  <tbody>\n",
       "    <tr>\n",
       "      <th>72397</th>\n",
       "      <td>72428</td>\n",
       "      <td>unknown</td>\n",
       "      <td>unknown</td>\n",
       "    </tr>\n",
       "    <tr>\n",
       "      <th>72398</th>\n",
       "      <td>72429</td>\n",
       "      <td>unknown</td>\n",
       "      <td>unknown</td>\n",
       "    </tr>\n",
       "  </tbody>\n",
       "</table>\n",
       "</div>"
      ],
      "text/plain": [
       "       clnt_id clnt_gender clnt_age\n",
       "72397    72428     unknown  unknown\n",
       "72398    72429     unknown  unknown"
      ]
     },
     "execution_count": 5,
     "metadata": {},
     "output_type": "execute_result"
    }
   ],
   "source": [
    "df_client_demo.tail(2)"
   ]
  },
  {
   "cell_type": "code",
   "execution_count": 6,
   "metadata": {},
   "outputs": [
    {
     "data": {
      "text/html": [
       "<div>\n",
       "<style scoped>\n",
       "    .dataframe tbody tr th:only-of-type {\n",
       "        vertical-align: middle;\n",
       "    }\n",
       "\n",
       "    .dataframe tbody tr th {\n",
       "        vertical-align: top;\n",
       "    }\n",
       "\n",
       "    .dataframe thead th {\n",
       "        text-align: right;\n",
       "    }\n",
       "</style>\n",
       "<table border=\"1\" class=\"dataframe\">\n",
       "  <thead>\n",
       "    <tr style=\"text-align: right;\">\n",
       "      <th></th>\n",
       "      <th>pd_c</th>\n",
       "      <th>clac_nm1</th>\n",
       "      <th>clac_nm2</th>\n",
       "      <th>clac_nm3</th>\n",
       "    </tr>\n",
       "  </thead>\n",
       "  <tbody>\n",
       "    <tr>\n",
       "      <th>1665</th>\n",
       "      <td>1666</td>\n",
       "      <td>Women's Clothing</td>\n",
       "      <td>Women's Upper Bodywear / Tops</td>\n",
       "      <td>Women's T-shirts / Tops</td>\n",
       "    </tr>\n",
       "    <tr>\n",
       "      <th>1666</th>\n",
       "      <td>1667</td>\n",
       "      <td>Women's Clothing</td>\n",
       "      <td>Women's Upper Bodywear / Tops</td>\n",
       "      <td>Women's Vests</td>\n",
       "    </tr>\n",
       "  </tbody>\n",
       "</table>\n",
       "</div>"
      ],
      "text/plain": [
       "      pd_c          clac_nm1                       clac_nm2  \\\n",
       "1665  1666  Women's Clothing  Women's Upper Bodywear / Tops   \n",
       "1666  1667  Women's Clothing  Women's Upper Bodywear / Tops   \n",
       "\n",
       "                     clac_nm3  \n",
       "1665  Women's T-shirts / Tops  \n",
       "1666            Women's Vests  "
      ]
     },
     "execution_count": 6,
     "metadata": {},
     "output_type": "execute_result"
    }
   ],
   "source": [
    "df_product.tail(2)"
   ]
  },
  {
   "cell_type": "code",
   "execution_count": 7,
   "metadata": {},
   "outputs": [],
   "source": [
    "df_action['sess_dt_dow'] = df_action.sess_dt.dt.dayofweek\n",
    "df_action['sess_dt_dow_name'] = df_action.sess_dt.dt.weekday_name"
   ]
  },
  {
   "cell_type": "code",
   "execution_count": null,
   "metadata": {},
   "outputs": [],
   "source": [
    "action_type = {'0' : '검색', '1': '제품목록', '2': '제품 세부정보 보기', '3': '장바구니 제품 추가', '4': '장바구니 제품 삭제', '5': '결제 시도',\\\n",
    "               '6': '구매 완료', '7': '구매 환불', '8': '결제 옵션'}"
   ]
  },
  {
   "cell_type": "code",
   "execution_count": 9,
   "metadata": {},
   "outputs": [
    {
     "data": {
      "text/plain": [
       "Text(0.5, 1.0, 'Frequency of session by week day')"
      ]
     },
     "execution_count": 9,
     "metadata": {},
     "output_type": "execute_result"
    },
    {
     "data": {
      "image/png": "[encoded data removed]",
      "text/plain": [
       "<Figure size 864x576 with 1 Axes>"
      ]
     },
     "metadata": {
      "needs_background": "light"
     },
     "output_type": "display_data"
    }
   ],
   "source": [
    "plt.figure(figsize=(12,8))\n",
    "sns.countplot(x=\"sess_dt_dow_name\", order=['Monday','Tuesday','Wednesday','Thursday','Friday','Saturday', 'Sunday'], data=df_action, color=color[0])\n",
    "plt.ylabel('Count', fontsize=12)\n",
    "plt.xlabel('Day of week', fontsize=12)\n",
    "plt.title('Frequency of session by week day')"
   ]
  },
  {
   "cell_type": "markdown",
   "metadata": {},
   "source": [
    "**Seems like Monday and Wednesday when the session are high and low during Friday.**"
   ]
  },
  {
   "cell_type": "code",
   "execution_count": 10,
   "metadata": {},
   "outputs": [],
   "source": [
    "df_transaction['de_dt_dow'] = df_transaction.de_dt.dt.dayofweek\n",
    "df_transaction['de_dt_dow_name'] = df_transaction.de_dt.dt.weekday_name"
   ]
  },
  {
   "cell_type": "code",
   "execution_count": 11,
   "metadata": {},
   "outputs": [
    {
     "data": {
      "text/plain": [
       "Text(0.5, 1.0, 'Frequency of order by week day')"
      ]
     },
     "execution_count": 11,
     "metadata": {},
     "output_type": "execute_result"
    },
    {
     "data": {
      "image/png": "[encoded data removed]",
      "text/plain": [
       "<Figure size 864x576 with 1 Axes>"
      ]
     },
     "metadata": {
      "needs_background": "light"
     },
     "output_type": "display_data"
    }
   ],
   "source": [
    "plt.figure(figsize=(12,8))\n",
    "sns.countplot(x=\"de_dt_dow_name\", order=['Monday','Tuesday','Wednesday','Thursday','Friday','Saturday', 'Sunday'], data=df_transaction, color=color[0])\n",
    "plt.ylabel('Count', fontsize=12)\n",
    "plt.xlabel('Day of week', fontsize=12)\n",
    "plt.title('Frequency of order by week day')"
   ]
  },
  {
   "cell_type": "markdown",
   "metadata": {},
   "source": [
    "**Seems like 0 and 5 is Saturday and Monday when the orders are high and low during Sunday.**"
   ]
  },
  {
   "cell_type": "code",
   "execution_count": 12,
   "metadata": {},
   "outputs": [],
   "source": [
    "df_transaction[\"de_tm_hour\"] = df_transaction[\"de_tm\"].apply(lambda time: time.split(':')[0])"
   ]
  },
  {
   "cell_type": "code",
   "execution_count": 13,
   "metadata": {},
   "outputs": [
    {
     "data": {
      "text/plain": [
       "Text(0.5, 1.0, 'Frequency of order by hour of day')"
      ]
     },
     "execution_count": 13,
     "metadata": {},
     "output_type": "execute_result"
    },
    {
     "data": {
      "image/png": "[encoded data removed]",
      "text/plain": [
       "<Figure size 864x576 with 1 Axes>"
      ]
     },
     "metadata": {
      "needs_background": "light"
     },
     "output_type": "display_data"
    }
   ],
   "source": [
    "plt.figure(figsize=(12,8))\n",
    "sns.countplot(x=\"de_tm_hour\", data=df_transaction, color=color[0])\n",
    "plt.ylabel('Count', fontsize=12)\n",
    "plt.xlabel('Hour of day', fontsize=12)\n",
    "plt.title('Frequency of order by hour of day')"
   ]
  },
  {
   "cell_type": "markdown",
   "metadata": {},
   "source": [
    "So majority of the orders are made during day time. Now let us combine the day of week and hour of day to see the distribution"
   ]
  },
  {
   "cell_type": "code",
   "execution_count": 16,
   "metadata": {},
   "outputs": [
    {
     "data": {
      "image/png": "[encoded data removed]",
      "text/plain": [
       "<Figure size 864x432 with 2 Axes>"
      ]
     },
     "metadata": {
      "needs_background": "light"
     },
     "output_type": "display_data"
    }
   ],
   "source": [
    "grouped_df = df_transaction.groupby([\"de_dt_dow_name\", \"de_tm_hour\"])[\"buy_ct\"].aggregate(\"count\").reset_index()\n",
    "grouped_df = grouped_df.pivot('de_dt_dow_name', 'de_tm_hour', 'buy_ct').T\n",
    "\n",
    "plt.figure(figsize=(12, 6))\n",
    "sns.heatmap(grouped_df, cmap='PuOr')\n",
    "plt.title(\"Frequency of Day of week Vs Hour of day\")\n",
    "plt.show()"
   ]
  },
  {
   "cell_type": "markdown",
   "metadata": {},
   "source": [
    "**Seems Thursday evening and Saturday morning are the prime time for orders**"
   ]
  },
  {
   "cell_type": "code",
   "execution_count": null,
   "metadata": {},
   "outputs": [],
   "source": [
    "df_transaction.loc[df_transaction['pd_c'] == 'unknown', 'pd_c'] = '0000'\n",
    "df_transaction['pd_c'] = df_transaction['pd_c'].astype(int)\n",
    "cnt_pd = df_transaction['pd_c'].value_counts().reset_index().head(20)\n",
    "cnt_pd.columns = ['pd_c', 'frequency_count']\n",
    "pd.merge(cnt_pd, df_product, how='left')"
   ]
  },
  {
   "cell_type": "markdown",
   "metadata": {},
   "source": [
    "카테고리별로 groupby 후 sum 해보기"
   ]
  },
  {
   "cell_type": "markdown",
   "metadata": {},
   "source": [
    "**Most of them are Foods products!**"
   ]
  },
  {
   "cell_type": "code",
   "execution_count": null,
   "metadata": {},
   "outputs": [],
   "source": [
    "cnt_sech = df_action['sech_kwd'].value_counts().reset_index().head(20)\n",
    "cnt_sech.columns = ['sech_kwd', 'frequency_count']"
   ]
  },
  {
   "cell_type": "code",
   "execution_count": null,
   "metadata": {},
   "outputs": [],
   "source": [
    "cnt_sech"
   ]
  },
  {
   "cell_type": "code",
   "execution_count": null,
   "metadata": {},
   "outputs": [],
   "source": [
    "plt.figure(figsize=(12,8))\n",
    "sns.countplot(x=\"action_type\", data=df_action, color=color[0])\n",
    "plt.ylabel('Count', fontsize=12)\n",
    "plt.xlabel('Action type', fontsize=12)\n",
    "plt.title('Frequency of Action type')"
   ]
  },
  {
   "cell_type": "code",
   "execution_count": null,
   "metadata": {},
   "outputs": [],
   "source": [
    "plt.figure(figsize=(12,8))\n",
    "sns.countplot(x=\"dvc_ctg_nm\", data=df_action, color=color[0])\n",
    "plt.ylabel('Count', fontsize=12)\n",
    "plt.xlabel('Device Name', fontsize=12)\n",
    "plt.title('Frequency of Device Name')"
   ]
  },
  {
   "cell_type": "code",
   "execution_count": null,
   "metadata": {},
   "outputs": [],
   "source": [
    "plt.figure(figsize=(12,8))\n",
    "sns.countplot(x=\"clnt_gender\", data=df_client_demo, color=color[0])\n",
    "plt.ylabel('Count', fontsize=12)\n",
    "plt.xlabel('Client Gender', fontsize=12)\n",
    "plt.title('Count of Client Gender')"
   ]
  },
  {
   "cell_type": "code",
   "execution_count": null,
   "metadata": {},
   "outputs": [],
   "source": [
    "plt.figure(figsize=(12,8))\n",
    "sns.countplot(x=\"clnt_age\", data=df_client_demo, color=color[0])\n",
    "plt.ylabel('Count', fontsize=12)\n",
    "plt.xlabel('Client Age', fontsize=12)\n",
    "plt.title('Count of Client Age')"
   ]
  },
  {
   "cell_type": "code",
   "execution_count": null,
   "metadata": {},
   "outputs": [],
   "source": []
  }
 ],
 "metadata": {
  "kernelspec": {
   "display_name": "Python 3",
   "language": "python",
   "name": "python3"
  },
  "language_info": {
   "codemirror_mode": {
    "name": "ipython",
    "version": 3
   },
   "file_extension": ".py",
   "mimetype": "text/x-python",
   "name": "python",
   "nbconvert_exporter": "python",
   "pygments_lexer": "ipython3",
   "version": "3.6.8"
  }
 },
 "nbformat": 4,
 "nbformat_minor": 2
}
