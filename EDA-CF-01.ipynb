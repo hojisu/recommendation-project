{
 "cells": [
  {
   "cell_type": "markdown",
   "metadata": {},
   "source": [
    "# Exploratory Data Analysis"
   ]
  },
  {
   "cell_type": "markdown",
   "metadata": {},
   "source": [
    "- 데이터 전처리\n",
    "    - 데이터 탐색\n",
    "    - 데이터 클렌징"
   ]
  },
  {
   "cell_type": "code",
   "execution_count": 1,
   "metadata": {},
   "outputs": [],
   "source": [
    "%matplotlib inline\n",
    "pd.options.display.max_columns = 200\n",
    "from numpy.linalg import svd\n",
    "import scipy.sparse as sparse\n",
    "from scipy.sparse.linalg import spsolve\n",
    "from sklearn.metrics.pairwise import cosine_distances, cosine_similarity\n",
    "from sklearn.preprocessing import MinMaxScaler"
   ]
  },
  {
   "cell_type": "code",
   "execution_count": 2,
   "metadata": {},
   "outputs": [],
   "source": [
    "# df_action = pd.read_csv('../input/제6회 L.POINT Big Data Competition-분석용데이터-01.온라인 행동 정보.csv')\n",
    "df_transaction = pd.read_csv('../input/제6회 L.POINT Big Data Competition-분석용데이터-02.거래 정보.csv')\n",
    "# df_client_demo = pd.read_csv('../input/제6회 L.POINT Big Data Competition-분석용데이터-03.고객 Demographic 정보.csv')\n",
    "df_product = pd.read_csv('../input/제6회 L.POINT Big Data Competition-분석용데이터-04.상품분류 정보.csv')"
   ]
  },
  {
   "cell_type": "markdown",
   "metadata": {},
   "source": [
    "# Online Action columns\n",
    "- clnt_id : 클라이언트 ID, 고객을 고유하게 식별할 수 있도록 랜덤으로 부여된 ID\n",
    "- sess_id : 세션 ID, Web/App에 접속 후 세션이 시작될 때 부여된 순번 ID (클라이언트 ID에 여러개의 세션 ID 발급될 수 있음)\n",
    "- hit_seq : 조회일련번호, 조회 순서를 알 수 있도록 부여된 일련번호\n",
    "- action_type : 행동유형, 총 8가지의 행동 유형을 구분한 코드 [0.검색/ 1.제품 목록/ 2.제품 세부정보 보기/ 3. 장바구니 제품 추가/ 4, 장바구니 제품 삭제/ 5. 결제시도/ 6. 구매 완료/ 7. 구매환불/ 8. 결제옵션]\n",
    "- biz_unit : 업종단위, 온라인 및 오프라인 이용처를 구분하는 단위코드\n",
    "- sess_dt : 세션일자, (YYYYMMDD 형식)\n",
    "- hit_tm : 조회시간 (HH:MM 형식)\n",
    "- hit_pss_tm : 조회경과시간, 세션이 시작된 이후 해당 조회까지 경과한 시간(단위:밀리초), 첫번째 조회하면 0으로 설정\n",
    "- trans_id : 거래 ID, 구매내역을 고유하게 식별할 수 있도록 랜덤으로 부여된 ID\n",
    "- srch_kwd : 검색 키워드, 고객이 검색한 키워드\n",
    "- tot_pag_view_ct : 홈페이지조회건수, 세션 내의 총 페이지(화면)뷰 수\n",
    "- tot_sess_hr_v : 총세션시간값, 세션 내 총 시간(단위: 초)\n",
    "- trfc_src : 유입채널, 고객이 유입된 채널, [DIRECT/ PUSH/ WEBSITE/ PORTAL_1/ PORTAL_2/ PORTAL_3/ unknown]\n",
    "- dvc_ctg_nm : 기기유형, [mobile_web/ mobile_app/ PC]"
   ]
  },
  {
   "cell_type": "code",
   "execution_count": null,
   "metadata": {},
   "outputs": [],
   "source": [
    "df_action.tail(10)"
   ]
  },
  {
   "cell_type": "markdown",
   "metadata": {},
   "source": [
    "### Missing Data"
   ]
  },
  {
   "cell_type": "code",
   "execution_count": null,
   "metadata": {},
   "outputs": [],
   "source": [
    "df_missing = df_action.isnull().sum(axis=0).reset_index()\n",
    "df_missing.columns = ['column_name', 'missing_count']\n",
    "df_missing = df_missing.loc[df_missing['missing_count']>0]\n",
    "ind = np.arange(df_missing.shape[0])\n",
    "fig, ax = plt.subplots(figsize=(9,5))\n",
    "rects = ax.barh(ind, (df_missing.missing_count.values/len(df_action))*100, color='r')\n",
    "ax.set_yticks(ind)\n",
    "ax.set_yticklabels(df_missing.column_name.values, rotation='horizontal')\n",
    "ax.set_xlabel(\"% of missing values\")\n",
    "plt.show()"
   ]
  },
  {
   "cell_type": "markdown",
   "metadata": {},
   "source": [
    "# Transaction columns\n",
    "- clnt_id : 클라이언트 ID \n",
    "- trans_id : 거래 ID\n",
    "- trans_seq: 거래일련번호, 해당 거래 ID의 구매 내역 내 구매 순서를 알 수 있도록 부여된 일련번호\n",
    "- biz_unit : 업종단위  \n",
    "- pd_c : 상품소분류코드,\n",
    "- de_dt : 상품을 구매한 일자 (YYYYMMDD)\n",
    "- de_tm : 상품을 구매한 시각 (HH:MM)\n",
    "- buy_am : 구매한 상품의 금액\n",
    "- buy_ct : 구매한 상품의 수량"
   ]
  },
  {
   "cell_type": "code",
   "execution_count": null,
   "metadata": {},
   "outputs": [],
   "source": [
    "df_transaction.tail(10)"
   ]
  },
  {
   "cell_type": "markdown",
   "metadata": {},
   "source": [
    "# Client Demographic\n",
    "- clnt_id : 클라이언트 ID\n",
    "- clnt_gender : 성별 [M/F/unknown]\n",
    "- clnt_age : 연령대 [10대 이하/ 20대/ 30대/ 40대/ 50대/ 60대 이상/ 정보없음 : unknown]"
   ]
  },
  {
   "cell_type": "code",
   "execution_count": null,
   "metadata": {},
   "outputs": [],
   "source": [
    "df_client_demo.tail(10)"
   ]
  },
  {
   "cell_type": "markdown",
   "metadata": {},
   "source": [
    "# Product columns\n",
    "- pd_c : 상품 소분류코드 (최소단위)\n",
    "- clac_nm1 : 상품 대분류명\n",
    "- clac_nm2 : 상품 중분류명\n",
    "- clac_nm3 : 상품 소분류명"
   ]
  },
  {
   "cell_type": "code",
   "execution_count": null,
   "metadata": {},
   "outputs": [],
   "source": [
    "df_product.tail(10)"
   ]
  },
  {
   "cell_type": "markdown",
   "metadata": {},
   "source": [
    "### Missing Data"
   ]
  },
  {
   "cell_type": "code",
   "execution_count": null,
   "metadata": {},
   "outputs": [],
   "source": [
    "df_missing = df_product.isnull().sum(axis=0).reset_index()\n",
    "df_missing.columns = ['column_name', 'missing_count']\n",
    "df_missing = df_missing.loc[df_missing['missing_count']>0]\n",
    "ind = np.arange(df_missing.shape[0])\n",
    "fig, ax = plt.subplots(figsize=(9,1))\n",
    "rects = ax.barh(ind, (df_missing.missing_count.values/len(df_product))*100, color='r')\n",
    "ax.set_yticks(ind)\n",
    "ax.set_yticklabels(df_missing.column_name.values, rotation='horizontal')\n",
    "ax.set_xlabel(\"% of missing values\")\n",
    "plt.show()"
   ]
  },
  {
   "cell_type": "code",
   "execution_count": null,
   "metadata": {},
   "outputs": [],
   "source": [
    "df1 = df_transaction[['clnt_id', 'pd_c']]\n",
    "df1.loc[df1['pd_c'] == 'unknown', 'pd_c'] = '0000'\n",
    "df1['clnt_id'] = df1['clnt_id'].astype(int)\n",
    "df1['pd_c'] = df1['pd_c'].astype(int)\n",
    "df = pd.merge(df1, df_product, how='left')\n",
    "df2 = df[['clnt_id', 'clac_nm3']]\n",
    "df3 = df2.groupby([\"clnt_id\", \"clac_nm3\"]).size().reset_index(name=\"Counts\")\n",
    "df3.tail(2)"
   ]
  },
  {
   "cell_type": "markdown",
   "metadata": {},
   "source": [
    "# Creation of Sparse matrix(User x Item/MCAT)\n",
    "- https://medium.com/@ashutoshsingh93/recommendation-system-for-e-commerce-using-collaborative-filtering-fa04d6ab1fd8"
   ]
  },
  {
   "cell_type": "code",
   "execution_count": 3,
   "metadata": {},
   "outputs": [],
   "source": [
    "# convert df_product['pd_c'] datatype : int -> object\n",
    "df_product['pd_c'] = df_product['pd_c'].apply(lambda num: \"{:04n}\".format(num))\n",
    "\n",
    "# df_transaction and df_prodcct merge!\n",
    "df_0 = pd.merge(df_transaction, df_product, how='left')\n",
    "\n",
    "column_titles = ['clnt_id', 'de_dt', 'pd_c', 'clac_nm1', 'clac_nm2', 'clac_nm3', 'buy_ct']\n",
    "df = df_0.reindex(columns=column_titles)"
   ]
  },
  {
   "cell_type": "code",
   "execution_count": 4,
   "metadata": {},
   "outputs": [
    {
     "name": "stdout",
     "output_type": "stream",
     "text": [
      "<class 'pandas.core.frame.DataFrame'>\n",
      "Int64Index: 599961 entries, 0 to 599960\n",
      "Data columns (total 7 columns):\n",
      "clnt_id     599961 non-null int64\n",
      "de_dt       599961 non-null int64\n",
      "pd_c        599961 non-null object\n",
      "clac_nm1    582309 non-null object\n",
      "clac_nm2    582309 non-null object\n",
      "clac_nm3    582283 non-null object\n",
      "buy_ct      599961 non-null int64\n",
      "dtypes: int64(3), object(4)\n",
      "memory usage: 36.6+ MB\n"
     ]
    }
   ],
   "source": [
    "df.info()"
   ]
  },
  {
   "cell_type": "code",
   "execution_count": 5,
   "metadata": {},
   "outputs": [],
   "source": [
    "# Convert user_id and product_id names into numerical IDs\n",
    "df['clnt_id_cat'] = df['clnt_id'].astype('category').cat.codes\n",
    "df['pd_c_cat'] = df['pd_c'].astype(\"category\").cat.codes"
   ]
  },
  {
   "cell_type": "code",
   "execution_count": 6,
   "metadata": {},
   "outputs": [
    {
     "data": {
      "text/html": [
       "<div>\n",
       "<style scoped>\n",
       "    .dataframe tbody tr th:only-of-type {\n",
       "        vertical-align: middle;\n",
       "    }\n",
       "\n",
       "    .dataframe tbody tr th {\n",
       "        vertical-align: top;\n",
       "    }\n",
       "\n",
       "    .dataframe thead th {\n",
       "        text-align: right;\n",
       "    }\n",
       "</style>\n",
       "<table border=\"1\" class=\"dataframe\">\n",
       "  <thead>\n",
       "    <tr style=\"text-align: right;\">\n",
       "      <th></th>\n",
       "      <th>clnt_id</th>\n",
       "      <th>de_dt</th>\n",
       "      <th>pd_c</th>\n",
       "      <th>clac_nm1</th>\n",
       "      <th>clac_nm2</th>\n",
       "      <th>clac_nm3</th>\n",
       "      <th>buy_ct</th>\n",
       "      <th>clnt_id_cat</th>\n",
       "      <th>pd_c_cat</th>\n",
       "    </tr>\n",
       "  </thead>\n",
       "  <tbody>\n",
       "    <tr>\n",
       "      <td>0</td>\n",
       "      <td>21922</td>\n",
       "      <td>20190920</td>\n",
       "      <td>unknown</td>\n",
       "      <td>NaN</td>\n",
       "      <td>NaN</td>\n",
       "      <td>NaN</td>\n",
       "      <td>1</td>\n",
       "      <td>3401</td>\n",
       "      <td>1667</td>\n",
       "    </tr>\n",
       "    <tr>\n",
       "      <td>1</td>\n",
       "      <td>21279</td>\n",
       "      <td>20190920</td>\n",
       "      <td>unknown</td>\n",
       "      <td>NaN</td>\n",
       "      <td>NaN</td>\n",
       "      <td>NaN</td>\n",
       "      <td>1</td>\n",
       "      <td>3291</td>\n",
       "      <td>1667</td>\n",
       "    </tr>\n",
       "    <tr>\n",
       "      <td>2</td>\n",
       "      <td>39423</td>\n",
       "      <td>20190920</td>\n",
       "      <td>unknown</td>\n",
       "      <td>NaN</td>\n",
       "      <td>NaN</td>\n",
       "      <td>NaN</td>\n",
       "      <td>1</td>\n",
       "      <td>6172</td>\n",
       "      <td>1667</td>\n",
       "    </tr>\n",
       "    <tr>\n",
       "      <td>3</td>\n",
       "      <td>18362</td>\n",
       "      <td>20190920</td>\n",
       "      <td>unknown</td>\n",
       "      <td>NaN</td>\n",
       "      <td>NaN</td>\n",
       "      <td>NaN</td>\n",
       "      <td>1</td>\n",
       "      <td>2851</td>\n",
       "      <td>1667</td>\n",
       "    </tr>\n",
       "    <tr>\n",
       "      <td>4</td>\n",
       "      <td>39423</td>\n",
       "      <td>20190920</td>\n",
       "      <td>0565</td>\n",
       "      <td>Fruits</td>\n",
       "      <td>Imported Fruits</td>\n",
       "      <td>Bananas</td>\n",
       "      <td>1</td>\n",
       "      <td>6172</td>\n",
       "      <td>564</td>\n",
       "    </tr>\n",
       "    <tr>\n",
       "      <td>...</td>\n",
       "      <td>...</td>\n",
       "      <td>...</td>\n",
       "      <td>...</td>\n",
       "      <td>...</td>\n",
       "      <td>...</td>\n",
       "      <td>...</td>\n",
       "      <td>...</td>\n",
       "      <td>...</td>\n",
       "      <td>...</td>\n",
       "    </tr>\n",
       "    <tr>\n",
       "      <td>599956</td>\n",
       "      <td>35311</td>\n",
       "      <td>20190927</td>\n",
       "      <td>0339</td>\n",
       "      <td>Cosmetics / Beauty Care</td>\n",
       "      <td>Skin Care</td>\n",
       "      <td>Facial Masks</td>\n",
       "      <td>1</td>\n",
       "      <td>5494</td>\n",
       "      <td>338</td>\n",
       "    </tr>\n",
       "    <tr>\n",
       "      <td>599957</td>\n",
       "      <td>35311</td>\n",
       "      <td>20190927</td>\n",
       "      <td>0339</td>\n",
       "      <td>Cosmetics / Beauty Care</td>\n",
       "      <td>Skin Care</td>\n",
       "      <td>Facial Masks</td>\n",
       "      <td>2</td>\n",
       "      <td>5494</td>\n",
       "      <td>338</td>\n",
       "    </tr>\n",
       "    <tr>\n",
       "      <td>599958</td>\n",
       "      <td>35311</td>\n",
       "      <td>20190927</td>\n",
       "      <td>0339</td>\n",
       "      <td>Cosmetics / Beauty Care</td>\n",
       "      <td>Skin Care</td>\n",
       "      <td>Facial Masks</td>\n",
       "      <td>1</td>\n",
       "      <td>5494</td>\n",
       "      <td>338</td>\n",
       "    </tr>\n",
       "    <tr>\n",
       "      <td>599959</td>\n",
       "      <td>35311</td>\n",
       "      <td>20190927</td>\n",
       "      <td>0339</td>\n",
       "      <td>Cosmetics / Beauty Care</td>\n",
       "      <td>Skin Care</td>\n",
       "      <td>Facial Masks</td>\n",
       "      <td>1</td>\n",
       "      <td>5494</td>\n",
       "      <td>338</td>\n",
       "    </tr>\n",
       "    <tr>\n",
       "      <td>599960</td>\n",
       "      <td>35311</td>\n",
       "      <td>20190927</td>\n",
       "      <td>0324</td>\n",
       "      <td>Cosmetics / Beauty Care</td>\n",
       "      <td>Makeup</td>\n",
       "      <td>Nail Stickers / Stones</td>\n",
       "      <td>1</td>\n",
       "      <td>5494</td>\n",
       "      <td>323</td>\n",
       "    </tr>\n",
       "  </tbody>\n",
       "</table>\n",
       "<p>599961 rows × 9 columns</p>\n",
       "</div>"
      ],
      "text/plain": [
       "        clnt_id     de_dt     pd_c                 clac_nm1         clac_nm2  \\\n",
       "0         21922  20190920  unknown                      NaN              NaN   \n",
       "1         21279  20190920  unknown                      NaN              NaN   \n",
       "2         39423  20190920  unknown                      NaN              NaN   \n",
       "3         18362  20190920  unknown                      NaN              NaN   \n",
       "4         39423  20190920     0565                   Fruits  Imported Fruits   \n",
       "...         ...       ...      ...                      ...              ...   \n",
       "599956    35311  20190927     0339  Cosmetics / Beauty Care        Skin Care   \n",
       "599957    35311  20190927     0339  Cosmetics / Beauty Care        Skin Care   \n",
       "599958    35311  20190927     0339  Cosmetics / Beauty Care        Skin Care   \n",
       "599959    35311  20190927     0339  Cosmetics / Beauty Care        Skin Care   \n",
       "599960    35311  20190927     0324  Cosmetics / Beauty Care           Makeup   \n",
       "\n",
       "                      clac_nm3  buy_ct  clnt_id_cat  pd_c_cat  \n",
       "0                          NaN       1         3401      1667  \n",
       "1                          NaN       1         3291      1667  \n",
       "2                          NaN       1         6172      1667  \n",
       "3                          NaN       1         2851      1667  \n",
       "4                      Bananas       1         6172       564  \n",
       "...                        ...     ...          ...       ...  \n",
       "599956            Facial Masks       1         5494       338  \n",
       "599957            Facial Masks       2         5494       338  \n",
       "599958            Facial Masks       1         5494       338  \n",
       "599959            Facial Masks       1         5494       338  \n",
       "599960  Nail Stickers / Stones       1         5494       323  \n",
       "\n",
       "[599961 rows x 9 columns]"
      ]
     },
     "execution_count": 6,
     "metadata": {},
     "output_type": "execute_result"
    }
   ],
   "source": [
    "df"
   ]
  },
  {
   "cell_type": "code",
   "execution_count": null,
   "metadata": {},
   "outputs": [],
   "source": [
    "df.tail(15)"
   ]
  },
  {
   "cell_type": "code",
   "execution_count": null,
   "metadata": {},
   "outputs": [],
   "source": [
    "# Create a lookup frame so we can get the product names back in\n",
    "item_lookup = df[['pd_c_cat', 'clac_nm3']].drop_duplicates()\n",
    "item_lookup['pd_c_cat'] = item_lookup.pd_c_cat.astype(str)\n",
    "item_lookup.tail(5)"
   ]
  },
  {
   "cell_type": "code",
   "execution_count": null,
   "metadata": {},
   "outputs": [],
   "source": [
    "user_lookup = df[['clnt_id_cat', 'clnt_id']].drop_duplicates()\n",
    "user_lookup['clnt_id_cat'] = user_lookup.clnt_id_cat.astype(str)\n",
    "user_lookup.tail(4)"
   ]
  },
  {
   "cell_type": "code",
   "execution_count": null,
   "metadata": {},
   "outputs": [],
   "source": [
    "df = df.drop(['clnt_id', 'pd_c'], axis=1)\n",
    "df.tail(5)"
   ]
  },
  {
   "cell_type": "code",
   "execution_count": null,
   "metadata": {},
   "outputs": [],
   "source": [
    "# Create lists of all users, products and their purchase counts\n",
    "users = list(np.sort(df.clnt_id_cat.unique()))\n",
    "products = list(np.sort(df.pd_c_cat.unique()))\n",
    "purchases = list(df.buy_ct)"
   ]
  },
  {
   "cell_type": "code",
   "execution_count": null,
   "metadata": {},
   "outputs": [],
   "source": [
    "len(users), len(products), len(purchases)"
   ]
  },
  {
   "cell_type": "code",
   "execution_count": null,
   "metadata": {},
   "outputs": [],
   "source": [
    "# Get the rows and columns for our new matrix\n",
    "rows = df.clnt_id_cat.astype(int)\n",
    "cols = df.pd_c_cat.astype(int)"
   ]
  },
  {
   "cell_type": "code",
   "execution_count": null,
   "metadata": {},
   "outputs": [],
   "source": [
    "import scipy.sparse as sparse\n",
    "# Create a sparse matrix for our users and mcats containing number of purchases\n",
    "data_sparse_new = sparse.csr_matrix((purchases, (rows, cols)), shape=(len(users), len(products)))"
   ]
  },
  {
   "cell_type": "markdown",
   "metadata": {},
   "source": [
    "## Calculation of User vectors and MCAT vectors"
   ]
  },
  {
   "cell_type": "code",
   "execution_count": null,
   "metadata": {},
   "outputs": [],
   "source": [
    "# lambda: Regularizer value\n",
    "def implicit_als(sparse_data, alpha_val=40, iterations=10, lambda_val=0.1, features=10):\n",
    "    # Calculate the Confidence for each value in our data\n",
    "    confidence = sparse_data * alpha_val\n",
    "    \n",
    "    # Get the size of user rows and item columns using numpy array shape\n",
    "    user_size, item_size = sparse_data.shape\n",
    "    \n",
    "    # We create the user vectors X of size users x features, the item vectors\n",
    "    # Y of size items x features and randimly assign values to them using np.random.normal\n",
    "    X = sparse.csr_matrix(np.random.normal(size=(user_size, features)))\n",
    "    Y = sparse.csr_matrix(np.random.normal(size=(item_size, features)))\n",
    "    \n",
    "    # Identity matrix and lamda * I\n",
    "    X_I = sparse.eye(user_size)\n",
    "    Y_I = sparse.eye(item_size)\n",
    "    \n",
    "    I = sparse.eye(features)\n",
    "    lI = lambda_val * I\n",
    "    \n",
    "    for i in range(iterations):\n",
    "        print('iteration %d of %d' % (i+1, iterations))\n",
    "        \n",
    "        # Precompute Y-transpose-Y and X-transpose-X\n",
    "        yTy = Y.T.dot(Y)\n",
    "        xTx = X.T.dot(X)\n",
    "        \n",
    "        # Run in a loop for entire user data\n",
    "        for u in range(user_size):\n",
    "            \n",
    "            # Get the user row.\n",
    "            u_row = confidence[u, :].toarray()\n",
    "            \n",
    "            # Calulate the binary preference p(u). If known then preference is 1 and zero if not known.\n",
    "            p_u = u_row.copy()\n",
    "            p_u[p_u != 0] = 1.0\n",
    "            \n",
    "            # Calculate Cu and Cu - I. Confidence values for users and mcats.\n",
    "            CuI = sparse.diags(u_row, [0])\n",
    "            Cu = CuI + Y_I\n",
    "            \n",
    "            # Put it all together and compute the final formula\n",
    "            yT_CuI_y = Y.T.dot(CuI).dot(Y)\n",
    "            yT_Cu_pu = Y.T.dot(Cu).dot(p_u.T)\n",
    "            X[u] = spsolve(yTy + yT_CuI_y + lI, yT_Cu_pu)\n",
    "            \n",
    "        for i in range(item_size):\n",
    "            \n",
    "            # Get the item column and transpose it.\n",
    "            i_row = confidence[:,i].T.toarray()\n",
    "            \n",
    "            # Calculate the binary preference p(i)\n",
    "            p_i = i_row.copy()\n",
    "            p_i[p_i != 0] = 1.0\n",
    "            \n",
    "            # Calculate Ci and Ci - I\n",
    "            CiI = sparse.diags(i_row, [0])\n",
    "            Ci = CiI + X_I\n",
    "            \n",
    "            # Put it all together and compute the final formula\n",
    "            xT_CiI_x = X.T.dot(CiI).dot(X)\n",
    "            xT_Ci_pi = X.T.dot(Ci).dot(p_i.T)\n",
    "            Y[i] = spsolve(xTx + xT_CiI_x + lI, xT_Ci_pi)\n",
    "            \n",
    "    return X, Y"
   ]
  },
  {
   "cell_type": "markdown",
   "metadata": {},
   "source": [
    "## Recommendataion of mcats to users "
   ]
  },
  {
   "cell_type": "code",
   "execution_count": null,
   "metadata": {},
   "outputs": [],
   "source": [
    "user_vecs, item_vecs = implicit_als(data_sparse_new, iterations=5, features=20, alpha_val=40)"
   ]
  },
  {
   "cell_type": "code",
   "execution_count": null,
   "metadata": {},
   "outputs": [],
   "source": [
    "# Let's say we want to recommend mcats for user having user ID = 11\n",
    "user_id = 11\n",
    "\n",
    "#-----------------------------------------\n",
    "# GET the buy leads purchased by the user\n",
    "#-----------------------------------------\n",
    "\n",
    "# Let's print out what the user has purchased\n",
    "consumed_idx = data_sparse_new[user_id, :].nonzero()[1].astype(str)\n",
    "consumed_items = item_lookup.loc[item_lookup.pd_c_cat.isin(consumed_idx)]\n",
    "print(consumed_items)\n",
    "\n",
    "#----------------------------------------\n",
    "# Lets create users recommendations\n",
    "#----------------------------------------\n",
    "\n",
    "def recommend(user_id, data_sparse_new, user_vecs1, item_vecs1, item_lookup, num_items=10):\n",
    "    \n",
    "    # Get all interactions by the user\n",
    "    user_interactions = data_sparse_new[user_id, :].toarray()\n",
    "    \n",
    "    # We don't want to recommend items the items the user has consumed. \n",
    "    # let's set them all to 0 and the unknowns to 1.\n",
    "    user_interactions = user_interactions.reshape(-1) + 1 #Reshape to turn into 1D array\n",
    "    user_interactions[user_interactions > 1] = 0\n",
    "    \n",
    "    # This is where we calculate the recommendation by taking the dot-product of the user vectors with the item vectors\n",
    "    rec_vector = user_vecs1[user_id, :].dot(item_vecs1.T).toarray()\n",
    "    \n",
    "    # Let's scale our scores between 0 and 1 to make it all easier to interpret.\n",
    "    min_max = MinMaxScaler()\n",
    "    rec_vector_scaled = min_max.fit_transform(rec_vector.reshape(-1,1))[:,0]\n",
    "    recommend_vector = user_interactions*rec_vector_scaled\n",
    "    \n",
    "    # Get all the mcats indices in order of recommendations (descending) and select only the top mcats\n",
    "    item_idx = np.argsort(recommend_vector)[::-1][:num_items]\n",
    "    \n",
    "    products = []\n",
    "    product_scores = []\n",
    "    \n",
    "    # Loop through our recommended mcat indicies and look up the actual mcat name \n",
    "    for idx in item_idx:\n",
    "        products.append(item_lookup.clac_nm3.loc[item_lookup.pd_c_cat == str(idx)].iloc[0])\n",
    "        product_scores.append(recommend_vector[idx])\n",
    "        \n",
    "    # Create a new dataframe with recommended mcat names and scores\n",
    "    recommendations = pd.DataFrame({'clac_nm3': products, 'score': product_scores})\n",
    "    \n",
    "    return recommendations\n",
    "\n",
    "# Lets generate and print our recommendations of mcats against users\n",
    "recommendations = recommend(user_id, data_sparse_new, user_vecs, item_vecs, item_lookup)\n",
    "print(recommendations)"
   ]
  },
  {
   "cell_type": "code",
   "execution_count": null,
   "metadata": {},
   "outputs": [],
   "source": []
  }
 ],
 "metadata": {
  "kernelspec": {
   "display_name": "Python 3",
   "language": "python",
   "name": "python3"
  },
  "language_info": {
   "codemirror_mode": {
    "name": "ipython",
    "version": 3
   },
   "file_extension": ".py",
   "mimetype": "text/x-python",
   "name": "python",
   "nbconvert_exporter": "python",
   "pygments_lexer": "ipython3",
   "version": "3.7.0"
  }
 },
 "nbformat": 4,
 "nbformat_minor": 4
}
